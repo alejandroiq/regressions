{
 "cells": [
  {
   "cell_type": "code",
   "execution_count": 2,
   "id": "36bdb3c6-0d25-4895-a005-7051c9ad0492",
   "metadata": {},
   "outputs": [],
   "source": [
    "import pandas as pd\n",
    "import statsmodels.api as sm\n",
    "import matplotlib.pyplot as plt\n",
    "import seaborn as sns\n",
    "from faraway.datasets import galapagos"
   ]
  },
  {
   "cell_type": "code",
   "execution_count": 3,
   "id": "e0aace86-ca8c-4ee1-9a5b-83027e643014",
   "metadata": {},
   "outputs": [],
   "source": [
    "# Load the galapagos dataset\n",
    "data = galapagos.load()"
   ]
  },
  {
   "cell_type": "code",
   "execution_count": 4,
   "id": "3c7ed0d8-e79b-4a38-bd80-995974f08e2c",
   "metadata": {},
   "outputs": [
    {
     "data": {
      "text/html": [
       "<div>\n",
       "<style scoped>\n",
       "    .dataframe tbody tr th:only-of-type {\n",
       "        vertical-align: middle;\n",
       "    }\n",
       "\n",
       "    .dataframe tbody tr th {\n",
       "        vertical-align: top;\n",
       "    }\n",
       "\n",
       "    .dataframe thead th {\n",
       "        text-align: right;\n",
       "    }\n",
       "</style>\n",
       "<table border=\"1\" class=\"dataframe\">\n",
       "  <thead>\n",
       "    <tr style=\"text-align: right;\">\n",
       "      <th></th>\n",
       "      <th>Species</th>\n",
       "      <th>Area</th>\n",
       "      <th>Elevation</th>\n",
       "      <th>Nearest</th>\n",
       "      <th>Scruz</th>\n",
       "      <th>Adjacent</th>\n",
       "    </tr>\n",
       "  </thead>\n",
       "  <tbody>\n",
       "    <tr>\n",
       "      <th>SantaFe</th>\n",
       "      <td>62</td>\n",
       "      <td>24.08</td>\n",
       "      <td>259</td>\n",
       "      <td>16.5</td>\n",
       "      <td>16.5</td>\n",
       "      <td>0.52</td>\n",
       "    </tr>\n",
       "    <tr>\n",
       "      <th>SantaMaria</th>\n",
       "      <td>285</td>\n",
       "      <td>170.92</td>\n",
       "      <td>640</td>\n",
       "      <td>2.6</td>\n",
       "      <td>49.2</td>\n",
       "      <td>0.10</td>\n",
       "    </tr>\n",
       "    <tr>\n",
       "      <th>Seymour</th>\n",
       "      <td>44</td>\n",
       "      <td>1.84</td>\n",
       "      <td>147</td>\n",
       "      <td>0.6</td>\n",
       "      <td>9.6</td>\n",
       "      <td>25.09</td>\n",
       "    </tr>\n",
       "    <tr>\n",
       "      <th>Tortuga</th>\n",
       "      <td>16</td>\n",
       "      <td>1.24</td>\n",
       "      <td>186</td>\n",
       "      <td>6.8</td>\n",
       "      <td>50.9</td>\n",
       "      <td>17.95</td>\n",
       "    </tr>\n",
       "    <tr>\n",
       "      <th>Wolf</th>\n",
       "      <td>21</td>\n",
       "      <td>2.85</td>\n",
       "      <td>253</td>\n",
       "      <td>34.1</td>\n",
       "      <td>254.7</td>\n",
       "      <td>2.33</td>\n",
       "    </tr>\n",
       "  </tbody>\n",
       "</table>\n",
       "</div>"
      ],
      "text/plain": [
       "            Species    Area  Elevation  Nearest  Scruz  Adjacent\n",
       "SantaFe          62   24.08        259     16.5   16.5      0.52\n",
       "SantaMaria      285  170.92        640      2.6   49.2      0.10\n",
       "Seymour          44    1.84        147      0.6    9.6     25.09\n",
       "Tortuga          16    1.24        186      6.8   50.9     17.95\n",
       "Wolf             21    2.85        253     34.1  254.7      2.33"
      ]
     },
     "execution_count": 4,
     "metadata": {},
     "output_type": "execute_result"
    }
   ],
   "source": [
    "data.tail()"
   ]
  },
  {
   "cell_type": "code",
   "execution_count": 5,
   "id": "b8e5c92d-f2f8-48d1-9592-b1b8739b9d0f",
   "metadata": {},
   "outputs": [
    {
     "name": "stdout",
     "output_type": "stream",
     "text": [
      "<class 'pandas.core.frame.DataFrame'>\n",
      "Index: 30 entries, Baltra to Wolf\n",
      "Data columns (total 6 columns):\n",
      " #   Column     Non-Null Count  Dtype  \n",
      "---  ------     --------------  -----  \n",
      " 0   Species    30 non-null     int64  \n",
      " 1   Area       30 non-null     float64\n",
      " 2   Elevation  30 non-null     int64  \n",
      " 3   Nearest    30 non-null     float64\n",
      " 4   Scruz      30 non-null     float64\n",
      " 5   Adjacent   30 non-null     float64\n",
      "dtypes: float64(4), int64(2)\n",
      "memory usage: 1.6+ KB\n"
     ]
    }
   ],
   "source": [
    "data.info()"
   ]
  },
  {
   "cell_type": "code",
   "execution_count": 6,
   "id": "ed63d509-8f52-4b59-b68e-40189c097f5a",
   "metadata": {},
   "outputs": [
    {
     "name": "stdout",
     "output_type": "stream",
     "text": [
      "(30, 4) (30,)\n"
     ]
    }
   ],
   "source": [
    "# Define the independent variables (predictors) and add a constant\n",
    "X = data[['Area', 'Elevation', 'Nearest']]\n",
    "X = sm.add_constant(X)  # Adds a constant for the intercept\n",
    "\n",
    "# Define the dependent variable\n",
    "y = data['Species']\n",
    "\n",
    "# Verify the shapes of X and y\n",
    "print(X.shape, y.shape)"
   ]
  },
  {
   "cell_type": "code",
   "execution_count": 8,
   "id": "904d61cb-3844-41b7-8c3c-1435c86b6590",
   "metadata": {},
   "outputs": [
    {
     "data": {
      "text/html": [
       "<div>\n",
       "<style scoped>\n",
       "    .dataframe tbody tr th:only-of-type {\n",
       "        vertical-align: middle;\n",
       "    }\n",
       "\n",
       "    .dataframe tbody tr th {\n",
       "        vertical-align: top;\n",
       "    }\n",
       "\n",
       "    .dataframe thead th {\n",
       "        text-align: right;\n",
       "    }\n",
       "</style>\n",
       "<table border=\"1\" class=\"dataframe\">\n",
       "  <thead>\n",
       "    <tr style=\"text-align: right;\">\n",
       "      <th></th>\n",
       "      <th>const</th>\n",
       "      <th>Area</th>\n",
       "      <th>Elevation</th>\n",
       "      <th>Nearest</th>\n",
       "    </tr>\n",
       "  </thead>\n",
       "  <tbody>\n",
       "    <tr>\n",
       "      <th>Baltra</th>\n",
       "      <td>1.0</td>\n",
       "      <td>25.09</td>\n",
       "      <td>346</td>\n",
       "      <td>0.6</td>\n",
       "    </tr>\n",
       "    <tr>\n",
       "      <th>Bartolome</th>\n",
       "      <td>1.0</td>\n",
       "      <td>1.24</td>\n",
       "      <td>109</td>\n",
       "      <td>0.6</td>\n",
       "    </tr>\n",
       "    <tr>\n",
       "      <th>Caldwell</th>\n",
       "      <td>1.0</td>\n",
       "      <td>0.21</td>\n",
       "      <td>114</td>\n",
       "      <td>2.8</td>\n",
       "    </tr>\n",
       "    <tr>\n",
       "      <th>Champion</th>\n",
       "      <td>1.0</td>\n",
       "      <td>0.10</td>\n",
       "      <td>46</td>\n",
       "      <td>1.9</td>\n",
       "    </tr>\n",
       "    <tr>\n",
       "      <th>Coamano</th>\n",
       "      <td>1.0</td>\n",
       "      <td>0.05</td>\n",
       "      <td>77</td>\n",
       "      <td>1.9</td>\n",
       "    </tr>\n",
       "  </tbody>\n",
       "</table>\n",
       "</div>"
      ],
      "text/plain": [
       "           const   Area  Elevation  Nearest\n",
       "Baltra       1.0  25.09        346      0.6\n",
       "Bartolome    1.0   1.24        109      0.6\n",
       "Caldwell     1.0   0.21        114      2.8\n",
       "Champion     1.0   0.10         46      1.9\n",
       "Coamano      1.0   0.05         77      1.9"
      ]
     },
     "execution_count": 8,
     "metadata": {},
     "output_type": "execute_result"
    }
   ],
   "source": [
    "X.head()"
   ]
  },
  {
   "cell_type": "code",
   "execution_count": 9,
   "id": "51809bc5-cde9-46f6-b124-96e312bcd515",
   "metadata": {},
   "outputs": [
    {
     "name": "stdout",
     "output_type": "stream",
     "text": [
      "                            OLS Regression Results                            \n",
      "==============================================================================\n",
      "Dep. Variable:                Species   R-squared:                       0.554\n",
      "Model:                            OLS   Adj. R-squared:                  0.503\n",
      "Method:                 Least Squares   F-statistic:                     10.77\n",
      "Date:                Mon, 16 Jun 2025   Prob (F-statistic):           8.82e-05\n",
      "Time:                        22:55:35   Log-Likelihood:                -172.20\n",
      "No. Observations:                  30   AIC:                             352.4\n",
      "Df Residuals:                      26   BIC:                             358.0\n",
      "Df Model:                           3                                         \n",
      "Covariance Type:            nonrobust                                         \n",
      "==============================================================================\n",
      "                 coef    std err          t      P>|t|      [0.025      0.975]\n",
      "------------------------------------------------------------------------------\n",
      "const         16.4647     23.389      0.704      0.488     -31.612      64.541\n",
      "Area           0.0191      0.027      0.713      0.482      -0.036       0.074\n",
      "Elevation      0.1713      0.055      3.143      0.004       0.059       0.283\n",
      "Nearest        0.0712      1.065      0.067      0.947      -2.118       2.260\n",
      "==============================================================================\n",
      "Omnibus:                       18.125   Durbin-Watson:                   1.901\n",
      "Prob(Omnibus):                  0.000   Jarque-Bera (JB):               30.695\n",
      "Skew:                           1.280   Prob(JB):                     2.16e-07\n",
      "Kurtosis:                       7.243   Cond. No.                     1.57e+03\n",
      "==============================================================================\n",
      "\n",
      "Notes:\n",
      "[1] Standard Errors assume that the covariance matrix of the errors is correctly specified.\n",
      "[2] The condition number is large, 1.57e+03. This might indicate that there are\n",
      "strong multicollinearity or other numerical problems.\n"
     ]
    }
   ],
   "source": [
    "# Fit the Multiple Linear Regression model\n",
    "model = sm.OLS(y, X).fit()\n",
    "\n",
    "# Print the model summary\n",
    "print(model.summary())"
   ]
  },
  {
   "cell_type": "markdown",
   "id": "1e975c79-c922-478d-bffd-e862f128a69c",
   "metadata": {},
   "source": [
    "Model Performance:\n",
    "\n",
    "Adjusted R2: 0.503\n",
    "\n",
    "Adjusted R2 accounts for the number of predictors in the model, penalizing unnecessary predictors.\n",
    "\n",
    "While r2 indicates that 55.4% of the variation in Species is explained by the model, the Adjusted of 0.503 suggests that some predictors may not add significant value and the model explains about 50.3% of the variability after accounting for the number of predictors."
   ]
  },
  {
   "cell_type": "markdown",
   "id": "931d430a-9dec-4fc9-8876-705fac32e40d",
   "metadata": {},
   "source": [
    "F-statistic: 10.77 (p-value = 8.82e-05)\n",
    "\n",
    "The F-statistic tests the overall significance of the model. A small p-value (< 0.05) indicates that the predictors, as a group, explain a statistically significant proportion of the variability in Species."
   ]
  },
  {
   "cell_type": "markdown",
   "id": "a0be2165-2c61-4eca-a3cc-d746a359b691",
   "metadata": {},
   "source": [
    "Elevation is the only statistically significant predictor (p = 0.004), indicating that islands with higher elevation tend to have more plant species.\n",
    "\n",
    "Area and Nearest are not significant (p > 0.05), suggesting they do not explain the variation in Species after accounting for Elevation."
   ]
  },
  {
   "cell_type": "markdown",
   "id": "e41810d5-a9f1-4f92-b462-22af8e6ec37a",
   "metadata": {},
   "source": [
    "## Check for multicollinearity"
   ]
  },
  {
   "cell_type": "code",
   "execution_count": 10,
   "id": "82268b26-311a-485f-94fd-d4a115f59d6e",
   "metadata": {},
   "outputs": [
    {
     "name": "stdout",
     "output_type": "stream",
     "text": [
      "               Area  Elevation   Nearest\n",
      "Area       1.000000   0.753735 -0.111103\n",
      "Elevation  0.753735   1.000000 -0.011077\n",
      "Nearest   -0.111103  -0.011077  1.000000\n"
     ]
    },
    {
     "data": {
      "image/png": "[encoded data removed]",
      "text/plain": [
       "<Figure size 640x480 with 2 Axes>"
      ]
     },
     "metadata": {},
     "output_type": "display_data"
    }
   ],
   "source": [
    "# Calculate the correlation matrix\n",
    "correlation_matrix = data[['Area', 'Elevation', 'Nearest']].corr()\n",
    "print(correlation_matrix)\n",
    "\n",
    "# Visualize the correlation matrix\n",
    "sns.heatmap(correlation_matrix, annot=True, cmap='coolwarm')\n",
    "plt.title('Correlation Matrix of Predictors')\n",
    "plt.show()"
   ]
  },
  {
   "cell_type": "markdown",
   "id": "54a33a28-3ccd-49b1-9db9-6c9bd0d90279",
   "metadata": {},
   "source": [
    "Variable Pair\tCorrelation Coefficient\tInterpretation\n",
    "\n",
    "Area & Elevation\t0.75\tStrong positive correlation: As Area increases, Elevation also tends to increase.\n",
    "\n",
    "Area & Nearest\t-0.11\tWeak negative correlation: Area and Nearest are almost uncorrelated.\n",
    "\n",
    "Elevation & Nearest\t-0.01\tVery weak negative correlation: Essentially no relationship."
   ]
  },
  {
   "cell_type": "markdown",
   "id": "22d98d70-3232-430e-b0d3-e5fc3ba797f4",
   "metadata": {},
   "source": [
    "Why Multicollinearity is a Concern?\n",
    "\n",
    "The strong correlation (0.75) between Area and Elevation suggests potential multicollinearity:\n",
    "\n",
    "Multicollinearity occurs when predictor variables are highly correlated.\n",
    "\n",
    "It inflates the variance of the regression coefficients, leading to: Unstable estimates for the coefficients, Increased standard errors, Difficulty determining which predictor is significant."
   ]
  },
  {
   "cell_type": "markdown",
   "id": "d1a9d986-8d87-4a81-9a7e-3efe1d3210ca",
   "metadata": {},
   "source": [
    "## Check for multicollinearity using VIF"
   ]
  },
  {
   "cell_type": "code",
   "execution_count": 17,
   "id": "296b403c-fe43-4531-b02f-27fe026e5d90",
   "metadata": {},
   "outputs": [
    {
     "name": "stdout",
     "output_type": "stream",
     "text": [
      "    Variable       VIF\n",
      "0      const  2.511156\n",
      "1       Area  2.373470\n",
      "2  Elevation  2.344460\n",
      "3    Nearest  1.025189\n"
     ]
    }
   ],
   "source": [
    "from statsmodels.stats.outliers_influence import variance_inflation_factor\n",
    "\n",
    "# Define predictors (excluding the dependent variable 'Species')\n",
    "X = data[['Area', 'Elevation', 'Nearest']]\n",
    "X = sm.add_constant(X)  # Add constant for intercept\n",
    "\n",
    "# Calculate VIF for each predictor\n",
    "vif_data = pd.DataFrame()\n",
    "vif_data['Variable'] = X.columns\n",
    "vif_data['VIF'] = [variance_inflation_factor(X.values, i) for i in range(X.shape[1])]\n",
    "\n",
    "print(vif_data)"
   ]
  },
  {
   "cell_type": "markdown",
   "id": "9dd36dbd-a2e9-48c5-a6d3-64132bc1f848",
   "metadata": {},
   "source": [
    "Area (VIF = 2.37) and Elevation (VIF = 2.34):\n",
    "\n",
    "1) Both predictors show low to moderate multicollinearity (VIF < 5).\n",
    "2) This indicates that Area and Elevation are correlated, which aligns with the correlation matrix results where their correlation was 0.75.\n",
    "3) While not severe, the moderate multicollinearity could slightly inflate the standard errors of their coefficients. However, it is still within an acceptable range, so no immediate corrective action is needed."
   ]
  },
  {
   "cell_type": "markdown",
   "id": "d01f26a9-3bcb-4db2-9e6d-0f3ba21ada1a",
   "metadata": {},
   "source": [
    "Nearest (VIF = 1.03):\n",
    "\n",
    "1) This variable has a very low VIF, indicating no multicollinearity with the other predictors.\n",
    "2) It can be confidently included in the model without concerns of redundancy."
   ]
  },
  {
   "cell_type": "markdown",
   "id": "782087dc-01d4-4eff-bf71-52180d0ab437",
   "metadata": {},
   "source": [
    "Constant Term (const, VIF = 2.51):\n",
    "The intercept has a moderate VIF value. This is typical and does not directly impact the interpretation of the predictor variables. It simply reflects the scaling and centering of the predictors."
   ]
  },
  {
   "cell_type": "markdown",
   "id": "285b2f87-c592-47c4-8818-af8b3a26e98b",
   "metadata": {},
   "source": [
    "### Visualization - Residuals"
   ]
  },
  {
   "cell_type": "code",
   "execution_count": 11,
   "id": "6d42b45a-ef5c-4625-b77b-a853aca4b324",
   "metadata": {},
   "outputs": [],
   "source": [
    "# Get the residuals\n",
    "residuals = model.resid"
   ]
  },
  {
   "cell_type": "code",
   "execution_count": 13,
   "id": "5b117966-2d1b-4dfd-b263-1414ed3f0b0a",
   "metadata": {},
   "outputs": [
    {
     "data": {
      "image/png": "[encoded data removed]",
      "text/plain": [
       "<Figure size 800x600 with 2 Axes>"
      ]
     },
     "metadata": {},
     "output_type": "display_data"
    }
   ],
   "source": [
    "# Create a 2x1 grid for the plots\n",
    "fig, axes = plt.subplots(1, 2, figsize=(8, 6))  # 2 rows, 1 column\n",
    "\n",
    "\n",
    "# Plot 1: Residuals vs Fitted Values\n",
    "axes[0].scatter(model.fittedvalues, residuals, color='blue')\n",
    "axes[0].axhline(0, color='red', linestyle='--')\n",
    "axes[0].set_title('Residuals vs Fitted Values')\n",
    "axes[0].set_xlabel('Fitted Values')\n",
    "axes[0].set_ylabel('Residuals')\n",
    "\n",
    "\n",
    "# Plot 2: Histogram of Residuals\n",
    "axes[1].hist(residuals, bins=10, edgecolor='black')\n",
    "axes[1].set_title('Histogram of Residuals')\n",
    "axes[1].set_xlabel('Residuals')\n",
    "axes[1].set_ylabel('Frequency')\n",
    "\n",
    "\n",
    "# Adjust layout\n",
    "plt.tight_layout()\n",
    "\n",
    "\n",
    "# Show the plots\n",
    "plt.show()"
   ]
  },
  {
   "cell_type": "markdown",
   "id": "70b9f4c9-450f-4d4d-8e75-541ad6dda59e",
   "metadata": {},
   "source": [
    "Residuals vs. Fitted Values Plot (Left)\n",
    "Purpose: This plot is used to assess the assumption of homoscedasticity (constant variance of residuals) and check for any patterns in residuals.\n",
    "\n",
    "1) In the plot, the residuals appear scattered unevenly around the red horizontal line at zero, with a few noticeable outliers far from the center.\n",
    "2) There is a concentration of residuals near lower fitted values and larger spread in higher fitted values. This suggests possible heteroscedasticity (non-constant variance).\n",
    "3) A few points are significantly distant from the zero line, which may indicate outliers or influential observations that could disproportionately affect the regression results.\n",
    "   \n",
    "Conclusion: The lack of even scatter and potential funneling of residuals indicates a violation of the homoscedasticity assumption, which should be addressed through further diagnostics, transformations, or robust regression methods."
   ]
  },
  {
   "cell_type": "markdown",
   "id": "9cb26267-6cfb-4659-89d0-fb505d71c9ee",
   "metadata": {},
   "source": [
    "Histogram of Residuals (Right)\n",
    "Purpose: This histogram checks whether the residuals are approximately normally distributed, which is essential for valid statistical inferences (e.g., hypothesis tests, confidence intervals).\n",
    "\n",
    "1) The histogram of residuals is not perfectly symmetric and exhibits a right-skewed distribution, with a notable cluster of residuals near zero and some extreme residuals at both ends.\n",
    "2) This deviation from normality suggests that the residuals are not centered around zero in a bell-curve shape, which violates the normality of residuals assumption.\n",
    "\n",
    "Conclusion: Non-normal residuals indicate that the regression model may not fully capture the variability in the data, potentially leading to inaccurate p-values or confidence intervals."
   ]
  },
  {
   "cell_type": "markdown",
   "id": "0c58197c-817c-49bb-9520-133a28cb79be",
   "metadata": {},
   "source": [
    "## Prediction"
   ]
  },
  {
   "cell_type": "code",
   "execution_count": 15,
   "id": "9c7e5e52-2bc9-4193-be53-f58c11bfeed1",
   "metadata": {},
   "outputs": [],
   "source": [
    "# Define new data for prediction\n",
    "# We are preparing a new observation (input) to feed into a regression model for prediction.\n",
    "# The order DO MATTER\n",
    "\n",
    "new_data = pd.DataFrame({'const': [1], 'Area': [10], 'Elevation': [100], 'Nearest': [1.5]})"
   ]
  },
  {
   "cell_type": "code",
   "execution_count": 16,
   "id": "e9e45459-268b-4547-b631-62856f2de995",
   "metadata": {},
   "outputs": [
    {
     "name": "stdout",
     "output_type": "stream",
     "text": [
      "Predicted number of species: 33.90\n"
     ]
    }
   ],
   "source": [
    "# Predict the number of species\n",
    "prediction = model.predict(new_data)\n",
    "print(f\"Predicted number of species: {prediction[0]:.2f}\")"
   ]
  },
  {
   "cell_type": "markdown",
   "id": "8e6aee52-3cea-4b7a-81ae-198122892dae",
   "metadata": {},
   "source": [
    "## Summary"
   ]
  },
  {
   "cell_type": "markdown",
   "id": "7e6ae3c6-d61f-48f5-8041-6f790468146a",
   "metadata": {},
   "source": [
    "Model Performance:\n",
    "1) The model explains approximately 55.4% of the variation in the number of species based on the predictors (Area, Elevation, Nearest).\n",
    "2) Adjusted R2 is 0.503, accounting for the number of predictors and indicating the model’s performance after penalizing unnecessary predictors."
   ]
  },
  {
   "cell_type": "markdown",
   "id": "d1b22541-9b9b-4b86-8594-7fb5e7361482",
   "metadata": {},
   "source": [
    "Significant Predictor among the predictors:\n",
    "\n",
    "1) Elevation has a statistically significant positive effect (p=0.04). For every unit increase in Elevation, the number of species increases by approximately 0.17.\n",
    "2) Area and Nearest are not significant (p>0.05), meaning they do not contribute meaningfully to predicting the number of species after considering Elevation."
   ]
  },
  {
   "cell_type": "markdown",
   "id": "24893dc4-2cdc-4d9e-9300-0982fd8d3d5b",
   "metadata": {},
   "source": [
    "Multicollinearity:\n",
    "1) Correlation analysis showed a strong relationship (r=0.75) between Area and Elevation.\n",
    "2) VIF values for Area (2.37) and Elevation (2.34) confirmed moderate multicollinearity but within acceptable limits ( VIF<5)."
   ]
  },
  {
   "cell_type": "markdown",
   "id": "58a37423-2b28-4ea1-aab8-23bedefb9f8d",
   "metadata": {},
   "source": [
    "Residual Diagnostics:\n",
    "\n",
    "1) Residuals vs. Fitted Plot: Indications of heteroscedasticity were observed, as the residuals are unevenly scattered, particularly at higher fitted values.\n",
    "2) Histogram of Residuals: Residuals are right-skewed and deviate from normality, which may affect the validity of statistical inferences."
   ]
  },
  {
   "cell_type": "markdown",
   "id": "8722ca30-6b83-412e-bc3b-a97cf8c9d210",
   "metadata": {},
   "source": [
    "Prediction:\n",
    "\n",
    "1) Using the model, we predicted that a new island with an Area = 10, Elevation = 100, and Nearest = 1.5 will have approximately 33.90 species.\n",
    "2) This prediction is based on the fitted regression equation and is a useful estimate for ecological planning or prioritizing islands for conservation."
   ]
  },
  {
   "cell_type": "markdown",
   "id": "94419d7b-cada-4de3-afb4-46ef1b43dc00",
   "metadata": {},
   "source": [
    "Final Recommendations\n",
    "\n",
    "**While Elevation is significant and useful for predictions, the lack of normality and heteroscedasticity in residuals suggests that improvements can be made to the model**\n",
    "\n",
    "Next Steps:\n",
    "1) Address heteroscedasticity by transforming predictors or responses (e.g., log transformation).\n",
    "2) Investigate the inclusion of other ecological variables that may better explain species richness.\n",
    "3) Consider robust regression methods if influential outliers persist.\n",
    "   \n",
    "By summarizing these findings, you can see how to assess model results critically, identify limitations, and propose actionable improvements in real-world data science workflows."
   ]
  },
  {
   "cell_type": "code",
   "execution_count": null,
   "id": "b69246a2-8536-4564-abc7-623aefcda265",
   "metadata": {},
   "outputs": [],
   "source": []
  }
 ],
 "metadata": {
  "kernelspec": {
   "display_name": "Python (base)",
   "language": "python",
   "name": "base"
  },
  "language_info": {
   "codemirror_mode": {
    "name": "ipython",
    "version": 3
   },
   "file_extension": ".py",
   "mimetype": "text/x-python",
   "name": "python",
   "nbconvert_exporter": "python",
   "pygments_lexer": "ipython3",
   "version": "3.11.11"
  }
 },
 "nbformat": 4,
 "nbformat_minor": 5
}
