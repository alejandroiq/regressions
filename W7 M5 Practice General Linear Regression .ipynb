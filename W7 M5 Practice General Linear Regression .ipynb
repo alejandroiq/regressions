{
 "cells": [
  {
   "cell_type": "code",
   "execution_count": 2,
   "id": "f4081912-0400-49dc-88e6-b05f559d0551",
   "metadata": {},
   "outputs": [],
   "source": [
    "import pandas as pd\n",
    "import numpy as np\n",
    "import statsmodels.formula.api as smf\n",
    "import statsmodels.api as sm\n",
    "import matplotlib.pyplot as plt\n",
    "from sklearn.linear_model import LinearRegression\n",
    "from sklearn.metrics import r2_score\n",
    "from rdatasets import data as rdata"
   ]
  },
  {
   "cell_type": "code",
   "execution_count": 3,
   "id": "227b21f4-a0d9-4360-a7bc-1065d5581e6a",
   "metadata": {},
   "outputs": [],
   "source": [
    "# Load the 'cars' dataset\n",
    "cars_data = sm.datasets.get_rdataset(\"mtcars\", \"datasets\").data"
   ]
  },
  {
   "cell_type": "code",
   "execution_count": 4,
   "id": "05563d80-ffd1-4bd0-99bf-ac4957d10cc3",
   "metadata": {},
   "outputs": [
    {
     "data": {
      "text/html": [
       "<div>\n",
       "<style scoped>\n",
       "    .dataframe tbody tr th:only-of-type {\n",
       "        vertical-align: middle;\n",
       "    }\n",
       "\n",
       "    .dataframe tbody tr th {\n",
       "        vertical-align: top;\n",
       "    }\n",
       "\n",
       "    .dataframe thead th {\n",
       "        text-align: right;\n",
       "    }\n",
       "</style>\n",
       "<table border=\"1\" class=\"dataframe\">\n",
       "  <thead>\n",
       "    <tr style=\"text-align: right;\">\n",
       "      <th></th>\n",
       "      <th>mpg</th>\n",
       "      <th>cyl</th>\n",
       "      <th>disp</th>\n",
       "      <th>hp</th>\n",
       "      <th>drat</th>\n",
       "      <th>wt</th>\n",
       "      <th>qsec</th>\n",
       "      <th>vs</th>\n",
       "      <th>am</th>\n",
       "      <th>gear</th>\n",
       "      <th>carb</th>\n",
       "    </tr>\n",
       "    <tr>\n",
       "      <th>rownames</th>\n",
       "      <th></th>\n",
       "      <th></th>\n",
       "      <th></th>\n",
       "      <th></th>\n",
       "      <th></th>\n",
       "      <th></th>\n",
       "      <th></th>\n",
       "      <th></th>\n",
       "      <th></th>\n",
       "      <th></th>\n",
       "      <th></th>\n",
       "    </tr>\n",
       "  </thead>\n",
       "  <tbody>\n",
       "    <tr>\n",
       "      <th>Mazda RX4</th>\n",
       "      <td>21.0</td>\n",
       "      <td>6</td>\n",
       "      <td>160.0</td>\n",
       "      <td>110</td>\n",
       "      <td>3.90</td>\n",
       "      <td>2.620</td>\n",
       "      <td>16.46</td>\n",
       "      <td>0</td>\n",
       "      <td>1</td>\n",
       "      <td>4</td>\n",
       "      <td>4</td>\n",
       "    </tr>\n",
       "    <tr>\n",
       "      <th>Mazda RX4 Wag</th>\n",
       "      <td>21.0</td>\n",
       "      <td>6</td>\n",
       "      <td>160.0</td>\n",
       "      <td>110</td>\n",
       "      <td>3.90</td>\n",
       "      <td>2.875</td>\n",
       "      <td>17.02</td>\n",
       "      <td>0</td>\n",
       "      <td>1</td>\n",
       "      <td>4</td>\n",
       "      <td>4</td>\n",
       "    </tr>\n",
       "    <tr>\n",
       "      <th>Datsun 710</th>\n",
       "      <td>22.8</td>\n",
       "      <td>4</td>\n",
       "      <td>108.0</td>\n",
       "      <td>93</td>\n",
       "      <td>3.85</td>\n",
       "      <td>2.320</td>\n",
       "      <td>18.61</td>\n",
       "      <td>1</td>\n",
       "      <td>1</td>\n",
       "      <td>4</td>\n",
       "      <td>1</td>\n",
       "    </tr>\n",
       "    <tr>\n",
       "      <th>Hornet 4 Drive</th>\n",
       "      <td>21.4</td>\n",
       "      <td>6</td>\n",
       "      <td>258.0</td>\n",
       "      <td>110</td>\n",
       "      <td>3.08</td>\n",
       "      <td>3.215</td>\n",
       "      <td>19.44</td>\n",
       "      <td>1</td>\n",
       "      <td>0</td>\n",
       "      <td>3</td>\n",
       "      <td>1</td>\n",
       "    </tr>\n",
       "    <tr>\n",
       "      <th>Hornet Sportabout</th>\n",
       "      <td>18.7</td>\n",
       "      <td>8</td>\n",
       "      <td>360.0</td>\n",
       "      <td>175</td>\n",
       "      <td>3.15</td>\n",
       "      <td>3.440</td>\n",
       "      <td>17.02</td>\n",
       "      <td>0</td>\n",
       "      <td>0</td>\n",
       "      <td>3</td>\n",
       "      <td>2</td>\n",
       "    </tr>\n",
       "  </tbody>\n",
       "</table>\n",
       "</div>"
      ],
      "text/plain": [
       "                    mpg  cyl   disp   hp  drat     wt   qsec  vs  am  gear  \\\n",
       "rownames                                                                     \n",
       "Mazda RX4          21.0    6  160.0  110  3.90  2.620  16.46   0   1     4   \n",
       "Mazda RX4 Wag      21.0    6  160.0  110  3.90  2.875  17.02   0   1     4   \n",
       "Datsun 710         22.8    4  108.0   93  3.85  2.320  18.61   1   1     4   \n",
       "Hornet 4 Drive     21.4    6  258.0  110  3.08  3.215  19.44   1   0     3   \n",
       "Hornet Sportabout  18.7    8  360.0  175  3.15  3.440  17.02   0   0     3   \n",
       "\n",
       "                   carb  \n",
       "rownames                 \n",
       "Mazda RX4             4  \n",
       "Mazda RX4 Wag         4  \n",
       "Datsun 710            1  \n",
       "Hornet 4 Drive        1  \n",
       "Hornet Sportabout     2  "
      ]
     },
     "execution_count": 4,
     "metadata": {},
     "output_type": "execute_result"
    }
   ],
   "source": [
    "cars_data.head()"
   ]
  },
  {
   "cell_type": "code",
   "execution_count": 5,
   "id": "331413d4-4c87-4404-8f74-1bf4ef5c608b",
   "metadata": {},
   "outputs": [
    {
     "name": "stdout",
     "output_type": "stream",
     "text": [
      "<class 'pandas.core.frame.DataFrame'>\n",
      "Index: 32 entries, Mazda RX4 to Volvo 142E\n",
      "Data columns (total 11 columns):\n",
      " #   Column  Non-Null Count  Dtype  \n",
      "---  ------  --------------  -----  \n",
      " 0   mpg     32 non-null     float64\n",
      " 1   cyl     32 non-null     int64  \n",
      " 2   disp    32 non-null     float64\n",
      " 3   hp      32 non-null     int64  \n",
      " 4   drat    32 non-null     float64\n",
      " 5   wt      32 non-null     float64\n",
      " 6   qsec    32 non-null     float64\n",
      " 7   vs      32 non-null     int64  \n",
      " 8   am      32 non-null     int64  \n",
      " 9   gear    32 non-null     int64  \n",
      " 10  carb    32 non-null     int64  \n",
      "dtypes: float64(5), int64(6)\n",
      "memory usage: 3.0+ KB\n"
     ]
    }
   ],
   "source": [
    "cars_data.info()"
   ]
  },
  {
   "cell_type": "code",
   "execution_count": 6,
   "id": "75e17900-61b3-4228-9d9a-e5a465d173d1",
   "metadata": {},
   "outputs": [
    {
     "data": {
      "text/html": [
       "<div>\n",
       "<style scoped>\n",
       "    .dataframe tbody tr th:only-of-type {\n",
       "        vertical-align: middle;\n",
       "    }\n",
       "\n",
       "    .dataframe tbody tr th {\n",
       "        vertical-align: top;\n",
       "    }\n",
       "\n",
       "    .dataframe thead th {\n",
       "        text-align: right;\n",
       "    }\n",
       "</style>\n",
       "<table border=\"1\" class=\"dataframe\">\n",
       "  <thead>\n",
       "    <tr style=\"text-align: right;\">\n",
       "      <th></th>\n",
       "      <th>mpg</th>\n",
       "      <th>cyl</th>\n",
       "      <th>disp</th>\n",
       "      <th>hp</th>\n",
       "      <th>drat</th>\n",
       "      <th>wt</th>\n",
       "      <th>qsec</th>\n",
       "      <th>vs</th>\n",
       "      <th>am</th>\n",
       "      <th>gear</th>\n",
       "      <th>carb</th>\n",
       "    </tr>\n",
       "  </thead>\n",
       "  <tbody>\n",
       "    <tr>\n",
       "      <th>count</th>\n",
       "      <td>32.000000</td>\n",
       "      <td>32.000000</td>\n",
       "      <td>32.000000</td>\n",
       "      <td>32.000000</td>\n",
       "      <td>32.000000</td>\n",
       "      <td>32.000000</td>\n",
       "      <td>32.000000</td>\n",
       "      <td>32.000000</td>\n",
       "      <td>32.000000</td>\n",
       "      <td>32.000000</td>\n",
       "      <td>32.0000</td>\n",
       "    </tr>\n",
       "    <tr>\n",
       "      <th>mean</th>\n",
       "      <td>20.090625</td>\n",
       "      <td>6.187500</td>\n",
       "      <td>230.721875</td>\n",
       "      <td>146.687500</td>\n",
       "      <td>3.596563</td>\n",
       "      <td>3.217250</td>\n",
       "      <td>17.848750</td>\n",
       "      <td>0.437500</td>\n",
       "      <td>0.406250</td>\n",
       "      <td>3.687500</td>\n",
       "      <td>2.8125</td>\n",
       "    </tr>\n",
       "    <tr>\n",
       "      <th>std</th>\n",
       "      <td>6.026948</td>\n",
       "      <td>1.785922</td>\n",
       "      <td>123.938694</td>\n",
       "      <td>68.562868</td>\n",
       "      <td>0.534679</td>\n",
       "      <td>0.978457</td>\n",
       "      <td>1.786943</td>\n",
       "      <td>0.504016</td>\n",
       "      <td>0.498991</td>\n",
       "      <td>0.737804</td>\n",
       "      <td>1.6152</td>\n",
       "    </tr>\n",
       "    <tr>\n",
       "      <th>min</th>\n",
       "      <td>10.400000</td>\n",
       "      <td>4.000000</td>\n",
       "      <td>71.100000</td>\n",
       "      <td>52.000000</td>\n",
       "      <td>2.760000</td>\n",
       "      <td>1.513000</td>\n",
       "      <td>14.500000</td>\n",
       "      <td>0.000000</td>\n",
       "      <td>0.000000</td>\n",
       "      <td>3.000000</td>\n",
       "      <td>1.0000</td>\n",
       "    </tr>\n",
       "    <tr>\n",
       "      <th>25%</th>\n",
       "      <td>15.425000</td>\n",
       "      <td>4.000000</td>\n",
       "      <td>120.825000</td>\n",
       "      <td>96.500000</td>\n",
       "      <td>3.080000</td>\n",
       "      <td>2.581250</td>\n",
       "      <td>16.892500</td>\n",
       "      <td>0.000000</td>\n",
       "      <td>0.000000</td>\n",
       "      <td>3.000000</td>\n",
       "      <td>2.0000</td>\n",
       "    </tr>\n",
       "    <tr>\n",
       "      <th>50%</th>\n",
       "      <td>19.200000</td>\n",
       "      <td>6.000000</td>\n",
       "      <td>196.300000</td>\n",
       "      <td>123.000000</td>\n",
       "      <td>3.695000</td>\n",
       "      <td>3.325000</td>\n",
       "      <td>17.710000</td>\n",
       "      <td>0.000000</td>\n",
       "      <td>0.000000</td>\n",
       "      <td>4.000000</td>\n",
       "      <td>2.0000</td>\n",
       "    </tr>\n",
       "    <tr>\n",
       "      <th>75%</th>\n",
       "      <td>22.800000</td>\n",
       "      <td>8.000000</td>\n",
       "      <td>326.000000</td>\n",
       "      <td>180.000000</td>\n",
       "      <td>3.920000</td>\n",
       "      <td>3.610000</td>\n",
       "      <td>18.900000</td>\n",
       "      <td>1.000000</td>\n",
       "      <td>1.000000</td>\n",
       "      <td>4.000000</td>\n",
       "      <td>4.0000</td>\n",
       "    </tr>\n",
       "    <tr>\n",
       "      <th>max</th>\n",
       "      <td>33.900000</td>\n",
       "      <td>8.000000</td>\n",
       "      <td>472.000000</td>\n",
       "      <td>335.000000</td>\n",
       "      <td>4.930000</td>\n",
       "      <td>5.424000</td>\n",
       "      <td>22.900000</td>\n",
       "      <td>1.000000</td>\n",
       "      <td>1.000000</td>\n",
       "      <td>5.000000</td>\n",
       "      <td>8.0000</td>\n",
       "    </tr>\n",
       "  </tbody>\n",
       "</table>\n",
       "</div>"
      ],
      "text/plain": [
       "             mpg        cyl        disp          hp       drat         wt  \\\n",
       "count  32.000000  32.000000   32.000000   32.000000  32.000000  32.000000   \n",
       "mean   20.090625   6.187500  230.721875  146.687500   3.596563   3.217250   \n",
       "std     6.026948   1.785922  123.938694   68.562868   0.534679   0.978457   \n",
       "min    10.400000   4.000000   71.100000   52.000000   2.760000   1.513000   \n",
       "25%    15.425000   4.000000  120.825000   96.500000   3.080000   2.581250   \n",
       "50%    19.200000   6.000000  196.300000  123.000000   3.695000   3.325000   \n",
       "75%    22.800000   8.000000  326.000000  180.000000   3.920000   3.610000   \n",
       "max    33.900000   8.000000  472.000000  335.000000   4.930000   5.424000   \n",
       "\n",
       "            qsec         vs         am       gear     carb  \n",
       "count  32.000000  32.000000  32.000000  32.000000  32.0000  \n",
       "mean   17.848750   0.437500   0.406250   3.687500   2.8125  \n",
       "std     1.786943   0.504016   0.498991   0.737804   1.6152  \n",
       "min    14.500000   0.000000   0.000000   3.000000   1.0000  \n",
       "25%    16.892500   0.000000   0.000000   3.000000   2.0000  \n",
       "50%    17.710000   0.000000   0.000000   4.000000   2.0000  \n",
       "75%    18.900000   1.000000   1.000000   4.000000   4.0000  \n",
       "max    22.900000   1.000000   1.000000   5.000000   8.0000  "
      ]
     },
     "execution_count": 6,
     "metadata": {},
     "output_type": "execute_result"
    }
   ],
   "source": [
    "cars_data.describe()"
   ]
  },
  {
   "cell_type": "markdown",
   "id": "fb84f152-b0ee-4e4c-806b-9c07d726a405",
   "metadata": {},
   "source": [
    "### Step 2 Fit Multivariate the model"
   ]
  },
  {
   "cell_type": "code",
   "execution_count": 7,
   "id": "169cdbcb-f8f7-4956-9f60-61039fbfa168",
   "metadata": {},
   "outputs": [
    {
     "name": "stdout",
     "output_type": "stream",
     "text": [
      "Intercepts: [37.28512617 -1.82092177]\n",
      "Coefficients: [[-5.34447157]\n",
      " [46.16005028]]\n"
     ]
    }
   ],
   "source": [
    "# Define predictors (X) and response variables (Y)\n",
    "X = cars_data[['wt']]  # Predictor: weight of the car\n",
    "Y = cars_data[['mpg', 'hp']]  # Response variables: mpg and hp\n",
    "\n",
    "# In this part, we have one independent and one or more dependent\n",
    "# Initialize and fit the multivariate regression model\n",
    "multi_reg = LinearRegression().fit(X, Y)\n",
    "\n",
    "# Extract coefficients and intercepts\n",
    "print(\"Intercepts:\", multi_reg.intercept_)\n",
    "print(\"Coefficients:\", multi_reg.coef_)"
   ]
  },
  {
   "cell_type": "markdown",
   "id": "b519efa1-ab4f-41d3-bf38-66450db0e92c",
   "metadata": {},
   "source": [
    "### Step 3 Model the evaluation"
   ]
  },
  {
   "cell_type": "code",
   "execution_count": 8,
   "id": "828e5458-22f8-4591-a78b-7e5fdaeb2602",
   "metadata": {},
   "outputs": [
    {
     "name": "stdout",
     "output_type": "stream",
     "text": [
      "R-squared for mpg: 0.753\n",
      "R-squared for hp: 0.434\n"
     ]
    }
   ],
   "source": [
    "# Predict the response variables\n",
    "Y_pred = multi_reg.predict(X)\n",
    "\n",
    "# Compute R-squared for each response variable\n",
    "r2_mpg = r2_score(Y['mpg'], Y_pred[:, 0])  # R-squared for mpg\n",
    "r2_hp = r2_score(Y['hp'], Y_pred[:, 1])  # R-squared for hp\n",
    "\n",
    "print(f\"R-squared for mpg: {r2_mpg:.3f}\")\n",
    "print(f\"R-squared for hp: {r2_hp:.3f}\")"
   ]
  },
  {
   "cell_type": "markdown",
   "id": "5978a817-aeb0-49dd-a500-93018582488a",
   "metadata": {},
   "source": [
    "### Step 4: Add Quadartic Terms"
   ]
  },
  {
   "cell_type": "code",
   "execution_count": 10,
   "id": "c75b29e3-6464-4c5a-84c8-eccaabd28c9f",
   "metadata": {},
   "outputs": [
    {
     "name": "stdout",
     "output_type": "stream",
     "text": [
      "Updated Intercepts: [ 49.93081095 -76.73441384]\n",
      "Updated Coefficients: [[-13.38033708   1.17108689]\n",
      " [ 93.76480697  -6.93756093]]\n"
     ]
    }
   ],
   "source": [
    "# Add quadratic term: weight squared\n",
    "cars_data['wt_squared'] = cars_data['wt'] ** 2\n",
    "\n",
    "\n",
    "# Update predictors\n",
    "X_quad = cars_data[['wt', 'wt_squared']]\n",
    "\n",
    "\n",
    "# Fit the updated model\n",
    "multi_reg_quad = LinearRegression().fit(X_quad, Y)\n",
    "\n",
    "\n",
    "# Extract coefficients and intercepts\n",
    "print(\"Updated Intercepts:\", multi_reg_quad.intercept_)\n",
    "print(\"Updated Coefficients:\", multi_reg_quad.coef_)\n"
   ]
  },
  {
   "cell_type": "markdown",
   "id": "d55c2d54-2e37-4a1c-9475-557427854752",
   "metadata": {},
   "source": [
    "### Step 5 Model comparing  R2"
   ]
  },
  {
   "cell_type": "code",
   "execution_count": 11,
   "id": "31fa5aeb-cb3c-4417-b9b5-c6e00a8c40b7",
   "metadata": {},
   "outputs": [
    {
     "name": "stdout",
     "output_type": "stream",
     "text": [
      "Updated R-squared for mpg: 0.819\n",
      "Updated R-squared for hp: 0.452\n"
     ]
    }
   ],
   "source": [
    "# Predict using the updated model\n",
    "Y_pred_quad = multi_reg_quad.predict(X_quad)\n",
    "\n",
    "# Compute R-squared for the updated model\n",
    "r2_mpg_quad = r2_score(Y['mpg'], Y_pred_quad[:, 0])\n",
    "r2_hp_quad = r2_score(Y['hp'], Y_pred_quad[:, 1])\n",
    "\n",
    "print(f\"Updated R-squared for mpg: {r2_mpg_quad:.3f}\")\n",
    "print(f\"Updated R-squared for hp: {r2_hp_quad:.3f}\")"
   ]
  },
  {
   "cell_type": "markdown",
   "id": "5c221a75-494b-4c85-8541-9a1f4b2159f9",
   "metadata": {},
   "source": [
    "1) R-squared for Base Model: Indicates the performance of the model using only wt as the predictor.\n",
    "2) R-squared for Quadratic Model: Measures the performance when the quadratic term (wt²) is included.\n",
    "\n",
    "\n",
    "Note: If the R-squared values improve for the quadratic model, it suggests that the addition of the nonlinear term improves the model's explanatory power while accounting for model complexity."
   ]
  },
  {
   "cell_type": "markdown",
   "id": "ce1dd245-b477-4fca-834c-01200abfb5ff",
   "metadata": {},
   "source": [
    "### Step 6 Final Model"
   ]
  },
  {
   "cell_type": "code",
   "execution_count": 12,
   "id": "2c15fb45-8285-4d33-912b-15efa990d07d",
   "metadata": {},
   "outputs": [
    {
     "name": "stdout",
     "output_type": "stream",
     "text": [
      "| Metric            |   GLM Model |   Quadractic Model |\n",
      "|:------------------|------------:|-------------------:|\n",
      "| R-squared for mpg |    0.752833 |           0.819061 |\n",
      "| R-squared for hp  |    0.433949 |           0.451908 |\n"
     ]
    }
   ],
   "source": [
    "# Create a dictionary to store the values\n",
    "data = {\n",
    "   'Metric': ['R-squared for mpg', 'R-squared for hp'],\n",
    "   'GLM Model': [r2_mpg, r2_hp],\n",
    "   'Quadractic Model': [r2_mpg_quad, r2_hp_quad]\n",
    "}\n",
    "\n",
    "\n",
    "# Create a pandas DataFrame\n",
    "df = pd.DataFrame(data)\n",
    "\n",
    "\n",
    "# Display the DataFrame as a table\n",
    "print(df.to_markdown(index=False))"
   ]
  },
  {
   "cell_type": "code",
   "execution_count": null,
   "id": "0468adbf-614f-4da8-aa74-6bbe54bef649",
   "metadata": {},
   "outputs": [],
   "source": []
  }
 ],
 "metadata": {
  "kernelspec": {
   "display_name": "Python (base)",
   "language": "python",
   "name": "base"
  },
  "language_info": {
   "codemirror_mode": {
    "name": "ipython",
    "version": 3
   },
   "file_extension": ".py",
   "mimetype": "text/x-python",
   "name": "python",
   "nbconvert_exporter": "python",
   "pygments_lexer": "ipython3",
   "version": "3.11.11"
  }
 },
 "nbformat": 4,
 "nbformat_minor": 5
}
