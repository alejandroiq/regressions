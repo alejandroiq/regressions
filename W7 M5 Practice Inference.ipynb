{
 "cells": [
  {
   "cell_type": "code",
   "execution_count": 3,
   "id": "f4081912-0400-49dc-88e6-b05f559d0551",
   "metadata": {},
   "outputs": [],
   "source": [
    "import pandas as pd\n",
    "import statsmodels.api as sm\n",
    "import statsmodels.formula.api as smf\n",
    "import numpy as np\n",
    "from faraway.datasets import statedata"
   ]
  },
  {
   "cell_type": "code",
   "execution_count": 5,
   "id": "227b21f4-a0d9-4360-a7bc-1065d5581e6a",
   "metadata": {},
   "outputs": [],
   "source": [
    "data = statedata.load()"
   ]
  },
  {
   "cell_type": "code",
   "execution_count": 7,
   "id": "05563d80-ffd1-4bd0-99bf-ac4957d10cc3",
   "metadata": {},
   "outputs": [
    {
     "data": {
      "text/html": [
       "<div>\n",
       "<style scoped>\n",
       "    .dataframe tbody tr th:only-of-type {\n",
       "        vertical-align: middle;\n",
       "    }\n",
       "\n",
       "    .dataframe tbody tr th {\n",
       "        vertical-align: top;\n",
       "    }\n",
       "\n",
       "    .dataframe thead th {\n",
       "        text-align: right;\n",
       "    }\n",
       "</style>\n",
       "<table border=\"1\" class=\"dataframe\">\n",
       "  <thead>\n",
       "    <tr style=\"text-align: right;\">\n",
       "      <th></th>\n",
       "      <th>State</th>\n",
       "      <th>Population</th>\n",
       "      <th>Income</th>\n",
       "      <th>Illiteracy</th>\n",
       "      <th>LifeExp</th>\n",
       "      <th>Murder</th>\n",
       "      <th>HSGrad</th>\n",
       "      <th>Frost</th>\n",
       "      <th>Area</th>\n",
       "    </tr>\n",
       "  </thead>\n",
       "  <tbody>\n",
       "    <tr>\n",
       "      <th>0</th>\n",
       "      <td>AL</td>\n",
       "      <td>3615</td>\n",
       "      <td>3624</td>\n",
       "      <td>2.1</td>\n",
       "      <td>69.05</td>\n",
       "      <td>15.1</td>\n",
       "      <td>41.3</td>\n",
       "      <td>20</td>\n",
       "      <td>50708</td>\n",
       "    </tr>\n",
       "    <tr>\n",
       "      <th>1</th>\n",
       "      <td>AK</td>\n",
       "      <td>365</td>\n",
       "      <td>6315</td>\n",
       "      <td>1.5</td>\n",
       "      <td>69.31</td>\n",
       "      <td>11.3</td>\n",
       "      <td>66.7</td>\n",
       "      <td>152</td>\n",
       "      <td>566432</td>\n",
       "    </tr>\n",
       "    <tr>\n",
       "      <th>2</th>\n",
       "      <td>AZ</td>\n",
       "      <td>2212</td>\n",
       "      <td>4530</td>\n",
       "      <td>1.8</td>\n",
       "      <td>70.55</td>\n",
       "      <td>7.8</td>\n",
       "      <td>58.1</td>\n",
       "      <td>15</td>\n",
       "      <td>113417</td>\n",
       "    </tr>\n",
       "    <tr>\n",
       "      <th>3</th>\n",
       "      <td>AR</td>\n",
       "      <td>2110</td>\n",
       "      <td>3378</td>\n",
       "      <td>1.9</td>\n",
       "      <td>70.66</td>\n",
       "      <td>10.1</td>\n",
       "      <td>39.9</td>\n",
       "      <td>65</td>\n",
       "      <td>51945</td>\n",
       "    </tr>\n",
       "    <tr>\n",
       "      <th>4</th>\n",
       "      <td>CA</td>\n",
       "      <td>21198</td>\n",
       "      <td>5114</td>\n",
       "      <td>1.1</td>\n",
       "      <td>71.71</td>\n",
       "      <td>10.3</td>\n",
       "      <td>62.6</td>\n",
       "      <td>20</td>\n",
       "      <td>156361</td>\n",
       "    </tr>\n",
       "  </tbody>\n",
       "</table>\n",
       "</div>"
      ],
      "text/plain": [
       "  State  Population  Income  Illiteracy  LifeExp  Murder  HSGrad  Frost  \\\n",
       "0    AL        3615    3624         2.1    69.05    15.1    41.3     20   \n",
       "1    AK         365    6315         1.5    69.31    11.3    66.7    152   \n",
       "2    AZ        2212    4530         1.8    70.55     7.8    58.1     15   \n",
       "3    AR        2110    3378         1.9    70.66    10.1    39.9     65   \n",
       "4    CA       21198    5114         1.1    71.71    10.3    62.6     20   \n",
       "\n",
       "     Area  \n",
       "0   50708  \n",
       "1  566432  \n",
       "2  113417  \n",
       "3   51945  \n",
       "4  156361  "
      ]
     },
     "execution_count": 7,
     "metadata": {},
     "output_type": "execute_result"
    }
   ],
   "source": [
    "data.head()"
   ]
  },
  {
   "cell_type": "code",
   "execution_count": 8,
   "id": "331413d4-4c87-4404-8f74-1bf4ef5c608b",
   "metadata": {},
   "outputs": [
    {
     "name": "stdout",
     "output_type": "stream",
     "text": [
      "<class 'pandas.core.frame.DataFrame'>\n",
      "RangeIndex: 50 entries, 0 to 49\n",
      "Data columns (total 9 columns):\n",
      " #   Column      Non-Null Count  Dtype  \n",
      "---  ------      --------------  -----  \n",
      " 0   State       50 non-null     object \n",
      " 1   Population  50 non-null     int64  \n",
      " 2   Income      50 non-null     int64  \n",
      " 3   Illiteracy  50 non-null     float64\n",
      " 4   LifeExp     50 non-null     float64\n",
      " 5   Murder      50 non-null     float64\n",
      " 6   HSGrad      50 non-null     float64\n",
      " 7   Frost       50 non-null     int64  \n",
      " 8   Area        50 non-null     int64  \n",
      "dtypes: float64(4), int64(4), object(1)\n",
      "memory usage: 3.6+ KB\n"
     ]
    }
   ],
   "source": [
    "data.info()"
   ]
  },
  {
   "cell_type": "code",
   "execution_count": 9,
   "id": "75e17900-61b3-4228-9d9a-e5a465d173d1",
   "metadata": {},
   "outputs": [
    {
     "data": {
      "text/html": [
       "<div>\n",
       "<style scoped>\n",
       "    .dataframe tbody tr th:only-of-type {\n",
       "        vertical-align: middle;\n",
       "    }\n",
       "\n",
       "    .dataframe tbody tr th {\n",
       "        vertical-align: top;\n",
       "    }\n",
       "\n",
       "    .dataframe thead th {\n",
       "        text-align: right;\n",
       "    }\n",
       "</style>\n",
       "<table border=\"1\" class=\"dataframe\">\n",
       "  <thead>\n",
       "    <tr style=\"text-align: right;\">\n",
       "      <th></th>\n",
       "      <th>Population</th>\n",
       "      <th>Income</th>\n",
       "      <th>Illiteracy</th>\n",
       "      <th>LifeExp</th>\n",
       "      <th>Murder</th>\n",
       "      <th>HSGrad</th>\n",
       "      <th>Frost</th>\n",
       "      <th>Area</th>\n",
       "    </tr>\n",
       "  </thead>\n",
       "  <tbody>\n",
       "    <tr>\n",
       "      <th>count</th>\n",
       "      <td>50.000000</td>\n",
       "      <td>50.000000</td>\n",
       "      <td>50.000000</td>\n",
       "      <td>50.000000</td>\n",
       "      <td>50.00000</td>\n",
       "      <td>50.000000</td>\n",
       "      <td>50.000000</td>\n",
       "      <td>50.000000</td>\n",
       "    </tr>\n",
       "    <tr>\n",
       "      <th>mean</th>\n",
       "      <td>4246.420000</td>\n",
       "      <td>4435.800000</td>\n",
       "      <td>1.170000</td>\n",
       "      <td>70.878600</td>\n",
       "      <td>7.37800</td>\n",
       "      <td>53.108000</td>\n",
       "      <td>104.460000</td>\n",
       "      <td>70735.880000</td>\n",
       "    </tr>\n",
       "    <tr>\n",
       "      <th>std</th>\n",
       "      <td>4464.491433</td>\n",
       "      <td>614.469939</td>\n",
       "      <td>0.609533</td>\n",
       "      <td>1.342394</td>\n",
       "      <td>3.69154</td>\n",
       "      <td>8.076998</td>\n",
       "      <td>51.980848</td>\n",
       "      <td>85327.299622</td>\n",
       "    </tr>\n",
       "    <tr>\n",
       "      <th>min</th>\n",
       "      <td>365.000000</td>\n",
       "      <td>3098.000000</td>\n",
       "      <td>0.500000</td>\n",
       "      <td>67.960000</td>\n",
       "      <td>1.40000</td>\n",
       "      <td>37.800000</td>\n",
       "      <td>0.000000</td>\n",
       "      <td>1049.000000</td>\n",
       "    </tr>\n",
       "    <tr>\n",
       "      <th>25%</th>\n",
       "      <td>1079.500000</td>\n",
       "      <td>3992.750000</td>\n",
       "      <td>0.625000</td>\n",
       "      <td>70.117500</td>\n",
       "      <td>4.35000</td>\n",
       "      <td>48.050000</td>\n",
       "      <td>66.250000</td>\n",
       "      <td>36985.250000</td>\n",
       "    </tr>\n",
       "    <tr>\n",
       "      <th>50%</th>\n",
       "      <td>2838.500000</td>\n",
       "      <td>4519.000000</td>\n",
       "      <td>0.950000</td>\n",
       "      <td>70.675000</td>\n",
       "      <td>6.85000</td>\n",
       "      <td>53.250000</td>\n",
       "      <td>114.500000</td>\n",
       "      <td>54277.000000</td>\n",
       "    </tr>\n",
       "    <tr>\n",
       "      <th>75%</th>\n",
       "      <td>4968.500000</td>\n",
       "      <td>4813.500000</td>\n",
       "      <td>1.575000</td>\n",
       "      <td>71.892500</td>\n",
       "      <td>10.67500</td>\n",
       "      <td>59.150000</td>\n",
       "      <td>139.750000</td>\n",
       "      <td>81162.500000</td>\n",
       "    </tr>\n",
       "    <tr>\n",
       "      <th>max</th>\n",
       "      <td>21198.000000</td>\n",
       "      <td>6315.000000</td>\n",
       "      <td>2.800000</td>\n",
       "      <td>73.600000</td>\n",
       "      <td>15.10000</td>\n",
       "      <td>67.300000</td>\n",
       "      <td>188.000000</td>\n",
       "      <td>566432.000000</td>\n",
       "    </tr>\n",
       "  </tbody>\n",
       "</table>\n",
       "</div>"
      ],
      "text/plain": [
       "         Population       Income  Illiteracy    LifeExp    Murder     HSGrad  \\\n",
       "count     50.000000    50.000000   50.000000  50.000000  50.00000  50.000000   \n",
       "mean    4246.420000  4435.800000    1.170000  70.878600   7.37800  53.108000   \n",
       "std     4464.491433   614.469939    0.609533   1.342394   3.69154   8.076998   \n",
       "min      365.000000  3098.000000    0.500000  67.960000   1.40000  37.800000   \n",
       "25%     1079.500000  3992.750000    0.625000  70.117500   4.35000  48.050000   \n",
       "50%     2838.500000  4519.000000    0.950000  70.675000   6.85000  53.250000   \n",
       "75%     4968.500000  4813.500000    1.575000  71.892500  10.67500  59.150000   \n",
       "max    21198.000000  6315.000000    2.800000  73.600000  15.10000  67.300000   \n",
       "\n",
       "            Frost           Area  \n",
       "count   50.000000      50.000000  \n",
       "mean   104.460000   70735.880000  \n",
       "std     51.980848   85327.299622  \n",
       "min      0.000000    1049.000000  \n",
       "25%     66.250000   36985.250000  \n",
       "50%    114.500000   54277.000000  \n",
       "75%    139.750000   81162.500000  \n",
       "max    188.000000  566432.000000  "
      ]
     },
     "execution_count": 9,
     "metadata": {},
     "output_type": "execute_result"
    }
   ],
   "source": [
    "data.describe()"
   ]
  },
  {
   "cell_type": "markdown",
   "id": "fb84f152-b0ee-4e4c-806b-9c07d726a405",
   "metadata": {},
   "source": [
    "### Step 2.a Fite the model"
   ]
  },
  {
   "cell_type": "code",
   "execution_count": 10,
   "id": "169cdbcb-f8f7-4956-9f60-61039fbfa168",
   "metadata": {},
   "outputs": [
    {
     "name": "stdout",
     "output_type": "stream",
     "text": [
      "                            OLS Regression Results                            \n",
      "==============================================================================\n",
      "Dep. Variable:             Illiteracy   R-squared:                       0.232\n",
      "Model:                            OLS   Adj. R-squared:                  0.200\n",
      "Method:                 Least Squares   F-statistic:                     7.110\n",
      "Date:                Tue, 17 Jun 2025   Prob (F-statistic):            0.00201\n",
      "Time:                        15:42:36   Log-Likelihood:                -39.081\n",
      "No. Observations:                  50   AIC:                             84.16\n",
      "Df Residuals:                      47   BIC:                             89.90\n",
      "Df Model:                           2                                         \n",
      "Covariance Type:            nonrobust                                         \n",
      "==============================================================================\n",
      "                 coef    std err          t      P>|t|      [0.025      0.975]\n",
      "------------------------------------------------------------------------------\n",
      "Intercept      3.1631      0.569      5.556      0.000       2.018       4.308\n",
      "Income        -0.0005      0.000     -3.676      0.001      -0.001      -0.000\n",
      "Population  2.835e-05   1.78e-05      1.589      0.119   -7.54e-06    6.42e-05\n",
      "==============================================================================\n",
      "Omnibus:                        4.162   Durbin-Watson:                   1.693\n",
      "Prob(Omnibus):                  0.125   Jarque-Bera (JB):                4.028\n",
      "Skew:                           0.667   Prob(JB):                        0.133\n",
      "Kurtosis:                       2.607   Cond. No.                     5.22e+04\n",
      "==============================================================================\n",
      "\n",
      "Notes:\n",
      "[1] Standard Errors assume that the covariance matrix of the errors is correctly specified.\n",
      "[2] The condition number is large, 5.22e+04. This might indicate that there are\n",
      "strong multicollinearity or other numerical problems.\n"
     ]
    }
   ],
   "source": [
    "mlr_model = smf.ols(formula=\"Illiteracy ~ Income + Population\", data=data).fit()\n",
    "print(mlr_model.summary())"
   ]
  },
  {
   "cell_type": "markdown",
   "id": "29a403fa-e111-4871-bf4f-4fa783816880",
   "metadata": {},
   "source": [
    "Interpretation: Income has a significant negative effect, while Population may or may not be significant based on the p-value."
   ]
  },
  {
   "cell_type": "markdown",
   "id": "b519efa1-ab4f-41d3-bf38-66450db0e92c",
   "metadata": {},
   "source": [
    "### Step 2.b Hypothesis Test for Slopes"
   ]
  },
  {
   "cell_type": "code",
   "execution_count": 11,
   "id": "828e5458-22f8-4591-a78b-7e5fdaeb2602",
   "metadata": {},
   "outputs": [
    {
     "name": "stdout",
     "output_type": "stream",
     "text": [
      "Income slope: -0.00047645183275191844 | p-value: 0.0006075011660540417\n",
      "Population slope: 2.8348404551818606e-05 | p-value: 0.11876474405794932\n"
     ]
    }
   ],
   "source": [
    "# Print slopes and p-values\n",
    "print(\"Income slope:\", mlr_model.params['Income'], \"| p-value:\", mlr_model.pvalues['Income'])\n",
    "print(\"Population slope:\", mlr_model.params['Population'], \"| p-value:\", mlr_model.pvalues['Population'])"
   ]
  },
  {
   "cell_type": "markdown",
   "id": "09075cb8-0024-48b9-952f-cf7ae9393995",
   "metadata": {},
   "source": [
    "So, income is statistically significant."
   ]
  },
  {
   "cell_type": "markdown",
   "id": "5978a817-aeb0-49dd-a500-93018582488a",
   "metadata": {},
   "source": [
    "### Step 2c: Confidence Intervals"
   ]
  },
  {
   "cell_type": "code",
   "execution_count": 13,
   "id": "c75b29e3-6464-4c5a-84c8-eccaabd28c9f",
   "metadata": {},
   "outputs": [
    {
     "data": {
      "text/html": [
       "<div>\n",
       "<style scoped>\n",
       "    .dataframe tbody tr th:only-of-type {\n",
       "        vertical-align: middle;\n",
       "    }\n",
       "\n",
       "    .dataframe tbody tr th {\n",
       "        vertical-align: top;\n",
       "    }\n",
       "\n",
       "    .dataframe thead th {\n",
       "        text-align: right;\n",
       "    }\n",
       "</style>\n",
       "<table border=\"1\" class=\"dataframe\">\n",
       "  <thead>\n",
       "    <tr style=\"text-align: right;\">\n",
       "      <th></th>\n",
       "      <th>0</th>\n",
       "      <th>1</th>\n",
       "    </tr>\n",
       "  </thead>\n",
       "  <tbody>\n",
       "    <tr>\n",
       "      <th>Intercept</th>\n",
       "      <td>2.017716</td>\n",
       "      <td>4.308416</td>\n",
       "    </tr>\n",
       "    <tr>\n",
       "      <th>Income</th>\n",
       "      <td>-0.000737</td>\n",
       "      <td>-0.000216</td>\n",
       "    </tr>\n",
       "    <tr>\n",
       "      <th>Population</th>\n",
       "      <td>-0.000008</td>\n",
       "      <td>0.000064</td>\n",
       "    </tr>\n",
       "  </tbody>\n",
       "</table>\n",
       "</div>"
      ],
      "text/plain": [
       "                   0         1\n",
       "Intercept   2.017716  4.308416\n",
       "Income     -0.000737 -0.000216\n",
       "Population -0.000008  0.000064"
      ]
     },
     "execution_count": 13,
     "metadata": {},
     "output_type": "execute_result"
    }
   ],
   "source": [
    "mlr_model.conf_int(alpha=0.05)"
   ]
  },
  {
   "cell_type": "markdown",
   "id": "efe25f28-fd50-402a-9906-ef49dda926ff",
   "metadata": {},
   "source": [
    "Confidence intervals for the slopes are shown. If the interval does not include zero, the predictor is significant."
   ]
  },
  {
   "cell_type": "markdown",
   "id": "d55c2d54-2e37-4a1c-9475-557427854752",
   "metadata": {},
   "source": [
    "### Step 3 Quadratic model"
   ]
  },
  {
   "cell_type": "code",
   "execution_count": 14,
   "id": "31fa5aeb-cb3c-4417-b9b5-c6e00a8c40b7",
   "metadata": {},
   "outputs": [
    {
     "name": "stdout",
     "output_type": "stream",
     "text": [
      "                            OLS Regression Results                            \n",
      "==============================================================================\n",
      "Dep. Variable:             Illiteracy   R-squared:                       0.399\n",
      "Model:                            OLS   Adj. R-squared:                  0.373\n",
      "Method:                 Least Squares   F-statistic:                     15.58\n",
      "Date:                Tue, 17 Jun 2025   Prob (F-statistic):           6.45e-06\n",
      "Time:                        15:47:16   Log-Likelihood:                -32.974\n",
      "No. Observations:                  50   AIC:                             71.95\n",
      "Df Residuals:                      47   BIC:                             77.68\n",
      "Df Model:                           2                                         \n",
      "Covariance Type:            nonrobust                                         \n",
      "==============================================================================\n",
      "                 coef    std err          t      P>|t|      [0.025      0.975]\n",
      "------------------------------------------------------------------------------\n",
      "Intercept     12.7604      2.452      5.204      0.000       7.828      17.693\n",
      "Income        -0.0048      0.001     -4.404      0.000      -0.007      -0.003\n",
      "Income2     4.864e-07   1.21e-07      4.028      0.000    2.43e-07    7.29e-07\n",
      "==============================================================================\n",
      "Omnibus:                        2.353   Durbin-Watson:                   1.989\n",
      "Prob(Omnibus):                  0.308   Jarque-Bera (JB):                2.200\n",
      "Skew:                           0.494   Prob(JB):                        0.333\n",
      "Kurtosis:                       2.717   Cond. No.                     7.47e+08\n",
      "==============================================================================\n",
      "\n",
      "Notes:\n",
      "[1] Standard Errors assume that the covariance matrix of the errors is correctly specified.\n",
      "[2] The condition number is large, 7.47e+08. This might indicate that there are\n",
      "strong multicollinearity or other numerical problems.\n"
     ]
    }
   ],
   "source": [
    "data['Income2'] = data['Income'] ** 2\n",
    "\n",
    "# Fit model with quadratic term\n",
    "quad_model = smf.ols(formula=\"Illiteracy ~ Income + Income2\", data=data).fit()\n",
    "print(quad_model.summary())"
   ]
  },
  {
   "cell_type": "markdown",
   "id": "55b30018-118f-4f80-b157-61b90fb14704",
   "metadata": {},
   "source": [
    "Output Interpretation: The Income2 coefficient indicates curvature. A significant ppp-value confirms nonlinearity."
   ]
  },
  {
   "cell_type": "code",
   "execution_count": 15,
   "id": "0209077e-7c25-4dd3-9bb1-81ec613631c6",
   "metadata": {},
   "outputs": [
    {
     "data": {
      "text/plain": [
       "0    2.434836e-07\n",
       "1    7.292897e-07\n",
       "Name: Income2, dtype: float64"
      ]
     },
     "execution_count": 15,
     "metadata": {},
     "output_type": "execute_result"
    }
   ],
   "source": [
    "quad_model.conf_int(alpha=0.05).loc['Income2']"
   ]
  },
  {
   "cell_type": "markdown",
   "id": "6c5543a2-8282-4e53-9ba4-9384185d1889",
   "metadata": {},
   "source": [
    "Output Interpretation: The interval does not contain zero, which implies statistical significance."
   ]
  },
  {
   "cell_type": "markdown",
   "id": "ce1dd245-b477-4fca-834c-01200abfb5ff",
   "metadata": {},
   "source": [
    "### Step 4 Interaction Term"
   ]
  },
  {
   "cell_type": "code",
   "execution_count": 17,
   "id": "2c15fb45-8285-4d33-912b-15efa990d07d",
   "metadata": {},
   "outputs": [
    {
     "name": "stdout",
     "output_type": "stream",
     "text": [
      "                            OLS Regression Results                            \n",
      "==============================================================================\n",
      "Dep. Variable:             Illiteracy   R-squared:                       0.323\n",
      "Model:                            OLS   Adj. R-squared:                  0.278\n",
      "Method:                 Least Squares   F-statistic:                     7.303\n",
      "Date:                Tue, 17 Jun 2025   Prob (F-statistic):           0.000419\n",
      "Time:                        15:48:40   Log-Likelihood:                -35.951\n",
      "No. Observations:                  50   AIC:                             79.90\n",
      "Df Residuals:                      46   BIC:                             87.55\n",
      "Df Model:                           3                                         \n",
      "Covariance Type:            nonrobust                                         \n",
      "=====================================================================================\n",
      "                        coef    std err          t      P>|t|      [0.025      0.975]\n",
      "-------------------------------------------------------------------------------------\n",
      "Intercept             1.7918      0.774      2.316      0.025       0.234       3.349\n",
      "Income               -0.0002      0.000     -1.155      0.254      -0.001       0.000\n",
      "Population            0.0005      0.000      2.605      0.012       0.000       0.001\n",
      "Income:Population -1.062e-07   4.29e-08     -2.477      0.017   -1.93e-07   -1.99e-08\n",
      "==============================================================================\n",
      "Omnibus:                        4.074   Durbin-Watson:                   1.654\n",
      "Prob(Omnibus):                  0.130   Jarque-Bera (JB):                3.337\n",
      "Skew:                           0.520   Prob(JB):                        0.188\n",
      "Kurtosis:                       2.279   Cond. No.                     3.08e+08\n",
      "==============================================================================\n",
      "\n",
      "Notes:\n",
      "[1] Standard Errors assume that the covariance matrix of the errors is correctly specified.\n",
      "[2] The condition number is large, 3.08e+08. This might indicate that there are\n",
      "strong multicollinearity or other numerical problems.\n"
     ]
    }
   ],
   "source": [
    "interaction_model = smf.ols(formula=\"Illiteracy ~ Income * Population\", data=data).fit()\n",
    "print(interaction_model.summary())"
   ]
  },
  {
   "cell_type": "code",
   "execution_count": 18,
   "id": "e3d220b0-1a45-41ae-af15-f530511b6ded",
   "metadata": {},
   "outputs": [
    {
     "name": "stdout",
     "output_type": "stream",
     "text": [
      "Interaction slope: -1.0619842809124954e-07\n",
      "Confidence Interval: 0   -1.925058e-07\n",
      "1   -1.989103e-08\n",
      "Name: Income:Population, dtype: float64\n"
     ]
    }
   ],
   "source": [
    "print(\"Interaction slope:\", interaction_model.params['Income:Population'])\n",
    "print(\"Confidence Interval:\", interaction_model.conf_int().loc['Income:Population'])"
   ]
  },
  {
   "cell_type": "markdown",
   "id": "cacc13a3-3620-43e1-828d-9250b201acde",
   "metadata": {},
   "source": [
    "### Step 5 Indicator variable"
   ]
  },
  {
   "cell_type": "code",
   "execution_count": 19,
   "id": "9b5f0b49-8563-4206-a944-2b8a22bf3cb9",
   "metadata": {},
   "outputs": [
    {
     "name": "stdout",
     "output_type": "stream",
     "text": [
      "                            OLS Regression Results                            \n",
      "==============================================================================\n",
      "Dep. Variable:             Illiteracy   R-squared:                       0.111\n",
      "Model:                            OLS   Adj. R-squared:                  0.073\n",
      "Method:                 Least Squares   F-statistic:                     2.943\n",
      "Date:                Tue, 17 Jun 2025   Prob (F-statistic):             0.0625\n",
      "Time:                        15:50:32   Log-Likelihood:                -42.739\n",
      "No. Observations:                  50   AIC:                             91.48\n",
      "Df Residuals:                      47   BIC:                             97.21\n",
      "Df Model:                           2                                         \n",
      "Covariance Type:            nonrobust                                         \n",
      "==============================================================================\n",
      "                 coef    std err          t      P>|t|      [0.025      0.975]\n",
      "------------------------------------------------------------------------------\n",
      "Intercept      1.2651      0.134      9.444      0.000       0.996       1.535\n",
      "HighIncome    -0.3887      0.169     -2.296      0.026      -0.729      -0.048\n",
      "Population  2.337e-05   1.91e-05      1.220      0.229   -1.52e-05    6.19e-05\n",
      "==============================================================================\n",
      "Omnibus:                        4.041   Durbin-Watson:                   1.756\n",
      "Prob(Omnibus):                  0.133   Jarque-Bera (JB):                3.623\n",
      "Skew:                           0.579   Prob(JB):                        0.163\n",
      "Kurtosis:                       2.368   Cond. No.                     1.40e+04\n",
      "==============================================================================\n",
      "\n",
      "Notes:\n",
      "[1] Standard Errors assume that the covariance matrix of the errors is correctly specified.\n",
      "[2] The condition number is large, 1.4e+04. This might indicate that there are\n",
      "strong multicollinearity or other numerical problems.\n"
     ]
    }
   ],
   "source": [
    "median_income = data['Income'].median()\n",
    "data['HighIncome'] = np.where(data['Income'] > median_income, 1, 0)\n",
    "indicator_model = smf.ols(formula=\"Illiteracy ~ HighIncome + Population\", data=data).fit()\n",
    "print(indicator_model.summary())"
   ]
  },
  {
   "cell_type": "markdown",
   "id": "8b90a37a-ab75-46a6-86fa-a68ede8ef903",
   "metadata": {},
   "source": [
    "### Step 5b & 5c: Hypothesis test and confidence interval for indicator variable"
   ]
  },
  {
   "cell_type": "code",
   "execution_count": 20,
   "id": "eb5ab825-6eb9-4612-80d6-c8f77485a9cf",
   "metadata": {},
   "outputs": [
    {
     "name": "stdout",
     "output_type": "stream",
     "text": [
      "HighIncome slope: -0.38872592739723566 | p-value: 0.026151809876558442\n",
      "Confidence Interval: 0   -0.729254\n",
      "1   -0.048198\n",
      "Name: HighIncome, dtype: float64\n"
     ]
    }
   ],
   "source": [
    "print(\"HighIncome slope:\", indicator_model.params['HighIncome'], \"| p-value:\", indicator_model.pvalues['HighIncome'])\n",
    "print(\"Confidence Interval:\", indicator_model.conf_int().loc['HighIncome'])"
   ]
  },
  {
   "cell_type": "markdown",
   "id": "95722f40-4d30-4706-aae7-9f81186e7338",
   "metadata": {},
   "source": [
    "### Step 6a: Log Transformation for Population"
   ]
  },
  {
   "cell_type": "code",
   "execution_count": 21,
   "id": "1d92ba5e-bc82-490f-a5fb-ffa0fc5f5d87",
   "metadata": {},
   "outputs": [
    {
     "name": "stdout",
     "output_type": "stream",
     "text": [
      "                            OLS Regression Results                            \n",
      "==============================================================================\n",
      "Dep. Variable:             Illiteracy   R-squared:                       0.245\n",
      "Model:                            OLS   Adj. R-squared:                  0.212\n",
      "Method:                 Least Squares   F-statistic:                     7.610\n",
      "Date:                Tue, 17 Jun 2025   Prob (F-statistic):            0.00137\n",
      "Time:                        15:58:21   Log-Likelihood:                -38.676\n",
      "No. Observations:                  50   AIC:                             83.35\n",
      "Df Residuals:                      47   BIC:                             89.09\n",
      "Df Model:                           2                                         \n",
      "Covariance Type:            nonrobust                                         \n",
      "==================================================================================\n",
      "                     coef    std err          t      P>|t|      [0.025      0.975]\n",
      "----------------------------------------------------------------------------------\n",
      "Intercept          2.0630      0.797      2.588      0.013       0.459       3.667\n",
      "Income            -0.0004      0.000     -3.509      0.001      -0.001      -0.000\n",
      "log_Population     0.1355      0.074      1.826      0.074      -0.014       0.285\n",
      "==============================================================================\n",
      "Omnibus:                        5.226   Durbin-Watson:                   1.643\n",
      "Prob(Omnibus):                  0.073   Jarque-Bera (JB):                4.994\n",
      "Skew:                           0.770   Prob(JB):                       0.0823\n",
      "Kurtosis:                       2.843   Cond. No.                     4.68e+04\n",
      "==============================================================================\n",
      "\n",
      "Notes:\n",
      "[1] Standard Errors assume that the covariance matrix of the errors is correctly specified.\n",
      "[2] The condition number is large, 4.68e+04. This might indicate that there are\n",
      "strong multicollinearity or other numerical problems.\n"
     ]
    }
   ],
   "source": [
    "data['log_Population'] = np.log(data['Population'])\n",
    "\n",
    "# Fit model with transformed variable\n",
    "log_model = smf.ols(formula=\"Illiteracy ~ Income + log_Population\", data=data).fit()\n",
    "print(log_model.summary())"
   ]
  },
  {
   "cell_type": "markdown",
   "id": "0f07c68f-cadc-490b-a179-4e56e9f3b010",
   "metadata": {},
   "source": [
    "### Step 6b & 6c: Hypothesis test and confidence interval for log transformation"
   ]
  },
  {
   "cell_type": "code",
   "execution_count": 22,
   "id": "9caa7781-f00e-4484-8641-80912b800846",
   "metadata": {},
   "outputs": [
    {
     "name": "stdout",
     "output_type": "stream",
     "text": [
      "log_Population slope: 0.13554273816057266 | p-value: 0.07423924362419751\n",
      "Confidence Interval: 0   -0.013805\n",
      "1    0.284890\n",
      "Name: log_Population, dtype: float64\n"
     ]
    }
   ],
   "source": [
    "print(\"log_Population slope:\", log_model.params['log_Population'], \"| p-value:\", log_model.pvalues['log_Population'])\n",
    "print(\"Confidence Interval:\", log_model.conf_int().loc['log_Population'])"
   ]
  },
  {
   "cell_type": "markdown",
   "id": "8bbaf647-4677-4561-b004-8cde793ce8d4",
   "metadata": {},
   "source": [
    "### Step 7 Comparisson"
   ]
  },
  {
   "cell_type": "code",
   "execution_count": 23,
   "id": "88fb52bd-7df1-4b34-92f1-aab4ec25cd87",
   "metadata": {},
   "outputs": [
    {
     "name": "stdout",
     "output_type": "stream",
     "text": [
      "                 Model  Adjusted R-squared\n",
      "1      Quadratic Model            0.373065\n",
      "2    Interaction Model            0.278437\n",
      "4            Log Model            0.212467\n",
      "0  Multiple Regression            0.199609\n",
      "3      Indicator Model            0.073486\n"
     ]
    }
   ],
   "source": [
    "models = {\n",
    "   \"Multiple Regression\": mlr_model.rsquared_adj,\n",
    "   \"Quadratic Model\": quad_model.rsquared_adj,\n",
    "   \"Interaction Model\": interaction_model.rsquared_adj,\n",
    "   \"Indicator Model\": indicator_model.rsquared_adj,\n",
    "   \"Log Model\": log_model.rsquared_adj\n",
    "}\n",
    "\n",
    "\n",
    "# Display models in descending order of Adjusted R-squared\n",
    "import pandas as pd\n",
    "comparison_df = pd.DataFrame(models.items(), columns=['Model', 'Adjusted R-squared']).sort_values(by='Adjusted R-squared', ascending=False)\n",
    "print(comparison_df)"
   ]
  },
  {
   "cell_type": "code",
   "execution_count": null,
   "id": "0468adbf-614f-4da8-aa74-6bbe54bef649",
   "metadata": {},
   "outputs": [],
   "source": []
  }
 ],
 "metadata": {
  "kernelspec": {
   "display_name": "Python (base)",
   "language": "python",
   "name": "base"
  },
  "language_info": {
   "codemirror_mode": {
    "name": "ipython",
    "version": 3
   },
   "file_extension": ".py",
   "mimetype": "text/x-python",
   "name": "python",
   "nbconvert_exporter": "python",
   "pygments_lexer": "ipython3",
   "version": "3.11.11"
  }
 },
 "nbformat": 4,
 "nbformat_minor": 5
}
