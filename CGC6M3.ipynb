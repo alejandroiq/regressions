{
 "cells": [
  {
   "cell_type": "markdown",
   "metadata": {
    "id": "Mh8D_4MML3ws"
   },
   "source": [
    "## Module 3: Statistical Inference for Linear Regression"
   ]
  },
  {
   "cell_type": "markdown",
   "metadata": {
    "id": "z2FR3HKBL9p1"
   },
   "source": [
    "### Step 0"
   ]
  },
  {
   "cell_type": "markdown",
   "metadata": {
    "id": "NNwf833ZMAvZ"
   },
   "source": [
    "Load the appropriate libraries and bring in the data. Note that we have to run a script to get the [California Housing dataset](https://scikit-learn.org/stable/modules/generated/sklearn.datasets.fetch_california_housing.html) to match as it is in scikit-learn. We cannot pull it directly from scikit-learn since CodeGrade cannot access the internet."
   ]
  },
  {
   "cell_type": "code",
   "execution_count": 1,
   "metadata": {
    "id": "09VaPgNdpoS9"
   },
   "outputs": [],
   "source": [
    "# CodeGrade step0\n",
    "\n",
    "from sklearn.datasets import fetch_california_housing\n",
    "import pandas as pd\n",
    "import numpy as np\n",
    "import matplotlib.pyplot as plt\n",
    "from sklearn.linear_model import LinearRegression\n",
    "from scipy.stats import pearsonr\n",
    "import os\n",
    "import tarfile\n",
    "import joblib # Import joblib directly\n",
    "from sklearn.datasets._base import _pkl_filepath, get_data_home\n",
    "import statsmodels.api as sm\n",
    "\n",
    "\n",
    "archive_path = \"cal_housing.tgz\" # change the path if it's not in the current directory\n",
    "data_home = get_data_home(data_home=None) # change data_home if you are not using ~/scikit_learn_data\n",
    "if not os.path.exists(data_home):\n",
    "    os.makedirs(data_home)\n",
    "filepath = _pkl_filepath(data_home, 'cal_housing.pkz')\n",
    "\n",
    "with tarfile.open(mode=\"r:gz\", name=archive_path) as f:\n",
    "    cal_housing = np.loadtxt(\n",
    "        f.extractfile('CaliforniaHousing/cal_housing.data'),\n",
    "        delimiter=',')\n",
    "    # Columns are not in the same order compared to the previous\n",
    "    # URL resource on lib.stat.cmu.edu\n",
    "    columns_index = [8, 7, 2, 3, 4, 5, 6, 1, 0]\n",
    "    cal_housing = cal_housing[:, columns_index]\n",
    "\n",
    "    joblib.dump(cal_housing, filepath, compress=6) # Now using the directly imported joblib\n",
    "\n",
    "# Load the dataset\n",
    "california = fetch_california_housing(as_frame=True)\n",
    "data = california.data\n",
    "target = california.target"
   ]
  },
  {
   "cell_type": "code",
   "execution_count": 2,
   "metadata": {},
   "outputs": [
    {
     "data": {
      "text/html": [
       "<div>\n",
       "<style scoped>\n",
       "    .dataframe tbody tr th:only-of-type {\n",
       "        vertical-align: middle;\n",
       "    }\n",
       "\n",
       "    .dataframe tbody tr th {\n",
       "        vertical-align: top;\n",
       "    }\n",
       "\n",
       "    .dataframe thead th {\n",
       "        text-align: right;\n",
       "    }\n",
       "</style>\n",
       "<table border=\"1\" class=\"dataframe\">\n",
       "  <thead>\n",
       "    <tr style=\"text-align: right;\">\n",
       "      <th></th>\n",
       "      <th>MedInc</th>\n",
       "      <th>HouseAge</th>\n",
       "      <th>AveRooms</th>\n",
       "      <th>AveBedrms</th>\n",
       "      <th>Population</th>\n",
       "      <th>AveOccup</th>\n",
       "      <th>Latitude</th>\n",
       "      <th>Longitude</th>\n",
       "    </tr>\n",
       "  </thead>\n",
       "  <tbody>\n",
       "    <tr>\n",
       "      <th>20635</th>\n",
       "      <td>1.5603</td>\n",
       "      <td>25.0</td>\n",
       "      <td>5.045455</td>\n",
       "      <td>1.133333</td>\n",
       "      <td>845.0</td>\n",
       "      <td>2.560606</td>\n",
       "      <td>39.48</td>\n",
       "      <td>-121.09</td>\n",
       "    </tr>\n",
       "    <tr>\n",
       "      <th>20636</th>\n",
       "      <td>2.5568</td>\n",
       "      <td>18.0</td>\n",
       "      <td>6.114035</td>\n",
       "      <td>1.315789</td>\n",
       "      <td>356.0</td>\n",
       "      <td>3.122807</td>\n",
       "      <td>39.49</td>\n",
       "      <td>-121.21</td>\n",
       "    </tr>\n",
       "    <tr>\n",
       "      <th>20637</th>\n",
       "      <td>1.7000</td>\n",
       "      <td>17.0</td>\n",
       "      <td>5.205543</td>\n",
       "      <td>1.120092</td>\n",
       "      <td>1007.0</td>\n",
       "      <td>2.325635</td>\n",
       "      <td>39.43</td>\n",
       "      <td>-121.22</td>\n",
       "    </tr>\n",
       "    <tr>\n",
       "      <th>20638</th>\n",
       "      <td>1.8672</td>\n",
       "      <td>18.0</td>\n",
       "      <td>5.329513</td>\n",
       "      <td>1.171920</td>\n",
       "      <td>741.0</td>\n",
       "      <td>2.123209</td>\n",
       "      <td>39.43</td>\n",
       "      <td>-121.32</td>\n",
       "    </tr>\n",
       "    <tr>\n",
       "      <th>20639</th>\n",
       "      <td>2.3886</td>\n",
       "      <td>16.0</td>\n",
       "      <td>5.254717</td>\n",
       "      <td>1.162264</td>\n",
       "      <td>1387.0</td>\n",
       "      <td>2.616981</td>\n",
       "      <td>39.37</td>\n",
       "      <td>-121.24</td>\n",
       "    </tr>\n",
       "  </tbody>\n",
       "</table>\n",
       "</div>"
      ],
      "text/plain": [
       "       MedInc  HouseAge  AveRooms  AveBedrms  Population  AveOccup  Latitude  \\\n",
       "20635  1.5603      25.0  5.045455   1.133333       845.0  2.560606     39.48   \n",
       "20636  2.5568      18.0  6.114035   1.315789       356.0  3.122807     39.49   \n",
       "20637  1.7000      17.0  5.205543   1.120092      1007.0  2.325635     39.43   \n",
       "20638  1.8672      18.0  5.329513   1.171920       741.0  2.123209     39.43   \n",
       "20639  2.3886      16.0  5.254717   1.162264      1387.0  2.616981     39.37   \n",
       "\n",
       "       Longitude  \n",
       "20635    -121.09  \n",
       "20636    -121.21  \n",
       "20637    -121.22  \n",
       "20638    -121.32  \n",
       "20639    -121.24  "
      ]
     },
     "execution_count": 2,
     "metadata": {},
     "output_type": "execute_result"
    }
   ],
   "source": [
    "data.tail()"
   ]
  },
  {
   "cell_type": "code",
   "execution_count": 3,
   "metadata": {},
   "outputs": [
    {
     "data": {
      "text/plain": [
       "0    4.526\n",
       "1    3.585\n",
       "2    3.521\n",
       "3    3.413\n",
       "4    3.422\n",
       "Name: MedHouseVal, dtype: float64"
      ]
     },
     "execution_count": 3,
     "metadata": {},
     "output_type": "execute_result"
    }
   ],
   "source": [
    "target.head()"
   ]
  },
  {
   "cell_type": "markdown",
   "metadata": {
    "id": "_zNYMtPVMFFu"
   },
   "source": [
    "### Step 1\n",
    "\n",
    "*   Create a copy of the data and call it `df`\n",
    "*   Select the `X` variable to be `MedInc` and the `y` be `MedianHouseValue`\n",
    "*   Add the constant term and call it `X_const`\n",
    "\n",
    "Verify this by returning the shape of `X_const`"
   ]
  },
  {
   "cell_type": "code",
   "execution_count": 5,
   "metadata": {
    "id": "dKaeGftlb_vW"
   },
   "outputs": [],
   "source": [
    "# CodeGrade step1\n",
    "df = data.copy()\n",
    "\n",
    "X = df[['MedInc']]\n",
    "y = target\n",
    "X_const = sm.add_constant(X)"
   ]
  },
  {
   "cell_type": "markdown",
   "metadata": {
    "id": "U8rG44WSMsGA"
   },
   "source": [
    "### Step 2\n",
    "\n",
    "*   fit the OLS model and call it `model`\n",
    "\n",
    "Then return the rounded model $r^2$ value to four decimal places."
   ]
  },
  {
   "cell_type": "code",
   "execution_count": 6,
   "metadata": {
    "id": "0z-coAkjcsfK"
   },
   "outputs": [],
   "source": [
    "# CodeGrade step2\n",
    "model = sm.OLS(y, X_const).fit()"
   ]
  },
  {
   "cell_type": "markdown",
   "metadata": {
    "id": "HyTQh0PhPb2I"
   },
   "source": [
    "Print the model summary"
   ]
  },
  {
   "cell_type": "code",
   "execution_count": 7,
   "metadata": {
    "id": "Fu8rCwDIc_Xs"
   },
   "outputs": [
    {
     "name": "stdout",
     "output_type": "stream",
     "text": [
      "                            OLS Regression Results                            \n",
      "==============================================================================\n",
      "Dep. Variable:            MedHouseVal   R-squared:                       0.473\n",
      "Model:                            OLS   Adj. R-squared:                  0.473\n",
      "Method:                 Least Squares   F-statistic:                 1.856e+04\n",
      "Date:                Mon, 16 Jun 2025   Prob (F-statistic):               0.00\n",
      "Time:                        19:02:29   Log-Likelihood:                -25623.\n",
      "No. Observations:               20640   AIC:                         5.125e+04\n",
      "Df Residuals:                   20638   BIC:                         5.127e+04\n",
      "Df Model:                           1                                         \n",
      "Covariance Type:            nonrobust                                         \n",
      "==============================================================================\n",
      "                 coef    std err          t      P>|t|      [0.025      0.975]\n",
      "------------------------------------------------------------------------------\n",
      "const          0.4509      0.013     34.082      0.000       0.425       0.477\n",
      "MedInc         0.4179      0.003    136.223      0.000       0.412       0.424\n",
      "==============================================================================\n",
      "Omnibus:                     4245.795   Durbin-Watson:                   0.655\n",
      "Prob(Omnibus):                  0.000   Jarque-Bera (JB):             9273.446\n",
      "Skew:                           1.191   Prob(JB):                         0.00\n",
      "Kurtosis:                       5.260   Cond. No.                         10.2\n",
      "==============================================================================\n",
      "\n",
      "Notes:\n",
      "[1] Standard Errors assume that the covariance matrix of the errors is correctly specified.\n"
     ]
    }
   ],
   "source": [
    "# Display the summary\n",
    "print(model.summary())"
   ]
  },
  {
   "cell_type": "markdown",
   "metadata": {
    "id": "mbj7yujsPd5j"
   },
   "source": [
    "### Step 3\n",
    "\n",
    "Extract the slope and the related statistics for `MedInc`, calling them, respetively, `slope`, `std_error`, `t_statistic`, and `p_value`.\n",
    "\n",
    "Return the following (do not round) to verify: `slope, std_error, t_statistic, p_value`.\n"
   ]
  },
  {
   "cell_type": "code",
   "execution_count": 11,
   "metadata": {
    "id": "6ofr7RmBew16"
   },
   "outputs": [
    {
     "name": "stdout",
     "output_type": "stream",
     "text": [
      "Slope (b1): 0.4179384920189624\n",
      "Standard Error: 0.0030680575388678357\n",
      "t-Statistic: 136.2225077998989\n",
      "p-Value: 0.0\n"
     ]
    }
   ],
   "source": [
    "# CodeGrade step3\n",
    "slope = model.params['MedInc']\n",
    "std_error = model.bse['MedInc']\n",
    "t_statistic = model.tvalues['MedInc']\n",
    "p_value = model.pvalues['MedInc']\n",
    "\n",
    "print(f\"Slope (b1): {slope}\")\n",
    "print(f\"Standard Error: {std_error}\")\n",
    "print(f\"t-Statistic: {t_statistic}\")\n",
    "print(f\"p-Value: {p_value}\")"
   ]
  },
  {
   "cell_type": "markdown",
   "metadata": {
    "id": "OIecobYwPw2b"
   },
   "source": [
    "### Step 4\n",
    "\n",
    "Calculuate the confidence interval of `MedInc` at a 95% level of confidence, and call this `conf_int`.\n",
    "\n",
    "Return the confidence interval rounded to four decimals places."
   ]
  },
  {
   "cell_type": "code",
   "execution_count": 13,
   "metadata": {
    "id": "h4xYMJRefoHH"
   },
   "outputs": [
    {
     "name": "stdout",
     "output_type": "stream",
     "text": [
      "95% Confidence Interval for the slope: [0.4119, 0.4240]\n"
     ]
    }
   ],
   "source": [
    "# CodeGrade step4\n",
    "conf_int = model.conf_int(alpha=0.05).loc['MedInc']\n",
    "print(f\"95% Confidence Interval for the slope: [{conf_int[0]:.4f}, {conf_int[1]:.4f}]\")"
   ]
  },
  {
   "cell_type": "markdown",
   "metadata": {
    "id": "TWFmsXWcQX1U"
   },
   "source": [
    "### Step 5\n",
    "\n",
    "Find the model predictions, call them `y_pred`.\n",
    "\n",
    "Return `y_pred.shape` to verify."
   ]
  },
  {
   "cell_type": "code",
   "execution_count": 15,
   "metadata": {
    "id": "bWAFYgBFghZm"
   },
   "outputs": [
    {
     "data": {
      "text/plain": [
       "(20640,)"
      ]
     },
     "execution_count": 15,
     "metadata": {},
     "output_type": "execute_result"
    }
   ],
   "source": [
    "# CodeGrade step5\n",
    "y_pred = model.predict(X_const)\n",
    "y_pred.shape"
   ]
  },
  {
   "cell_type": "markdown",
   "metadata": {
    "id": "2c3dBaPpQpn-"
   },
   "source": [
    "Plot the scatterplot with the regression line."
   ]
  },
  {
   "cell_type": "code",
   "execution_count": 16,
   "metadata": {
    "id": "sg0yxccwgnMT"
   },
   "outputs": [
    {
     "data": {
      "image/png": "[encoded data removed]",
      "text/plain": [
       "<Figure size 640x480 with 1 Axes>"
      ]
     },
     "metadata": {},
     "output_type": "display_data"
    }
   ],
   "source": [
    "# Plot the scatterplot with regression line\n",
    "plt.scatter(X, y, color='blue', label='Data Points')\n",
    "plt.plot(X, y_pred, color='red', label='Regression Line')\n",
    "plt.title('Scatterplot with Regression Line')\n",
    "plt.xlabel('MedInc')\n",
    "plt.ylabel('MedianHouseValue')\n",
    "plt.legend()\n",
    "plt.grid(True)\n",
    "plt.show()"
   ]
  },
  {
   "cell_type": "code",
   "execution_count": null,
   "metadata": {},
   "outputs": [],
   "source": []
  }
 ],
 "metadata": {
  "colab": {
   "provenance": []
  },
  "kernelspec": {
   "display_name": "Python (base)",
   "language": "python",
   "name": "base"
  },
  "language_info": {
   "codemirror_mode": {
    "name": "ipython",
    "version": 3
   },
   "file_extension": ".py",
   "mimetype": "text/x-python",
   "name": "python",
   "nbconvert_exporter": "python",
   "pygments_lexer": "ipython3",
   "version": "3.11.11"
  }
 },
 "nbformat": 4,
 "nbformat_minor": 4
}
