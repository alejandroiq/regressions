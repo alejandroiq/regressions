{
 "cells": [
  {
   "cell_type": "code",
   "execution_count": 1,
   "id": "44d6e2a5-0c94-44c9-91a5-79dc492fd833",
   "metadata": {},
   "outputs": [],
   "source": [
    "import pandas as pd\n",
    "import numpy as np\n",
    "import matplotlib.pyplot as plt\n",
    "import seaborn as sns\n",
    "import statsmodels.api as sm\n",
    "\n",
    "# No longer exist, so ChatGPT created the data for me\n",
    "# from faraway.datasets import galapagos "
   ]
  },
  {
   "cell_type": "code",
   "execution_count": 2,
   "id": "3905d0f6-aaae-4d1e-b8ef-a5fcec891491",
   "metadata": {},
   "outputs": [
    {
     "data": {
      "text/html": [
       "<div>\n",
       "<style scoped>\n",
       "    .dataframe tbody tr th:only-of-type {\n",
       "        vertical-align: middle;\n",
       "    }\n",
       "\n",
       "    .dataframe tbody tr th {\n",
       "        vertical-align: top;\n",
       "    }\n",
       "\n",
       "    .dataframe thead th {\n",
       "        text-align: right;\n",
       "    }\n",
       "</style>\n",
       "<table border=\"1\" class=\"dataframe\">\n",
       "  <thead>\n",
       "    <tr style=\"text-align: right;\">\n",
       "      <th></th>\n",
       "      <th>Species</th>\n",
       "      <th>Area</th>\n",
       "      <th>Elevation</th>\n",
       "      <th>Nearest</th>\n",
       "      <th>Scruz</th>\n",
       "      <th>Adjacent</th>\n",
       "    </tr>\n",
       "  </thead>\n",
       "  <tbody>\n",
       "    <tr>\n",
       "      <th>0</th>\n",
       "      <td>58</td>\n",
       "      <td>25.1</td>\n",
       "      <td>346</td>\n",
       "      <td>1.1</td>\n",
       "      <td>0.6</td>\n",
       "      <td>1.0</td>\n",
       "    </tr>\n",
       "    <tr>\n",
       "      <th>1</th>\n",
       "      <td>31</td>\n",
       "      <td>1.2</td>\n",
       "      <td>183</td>\n",
       "      <td>0.6</td>\n",
       "      <td>1.1</td>\n",
       "      <td>0.9</td>\n",
       "    </tr>\n",
       "    <tr>\n",
       "      <th>2</th>\n",
       "      <td>3</td>\n",
       "      <td>0.1</td>\n",
       "      <td>109</td>\n",
       "      <td>1.5</td>\n",
       "      <td>2.8</td>\n",
       "      <td>0.8</td>\n",
       "    </tr>\n",
       "    <tr>\n",
       "      <th>3</th>\n",
       "      <td>25</td>\n",
       "      <td>0.6</td>\n",
       "      <td>137</td>\n",
       "      <td>0.6</td>\n",
       "      <td>1.2</td>\n",
       "      <td>0.9</td>\n",
       "    </tr>\n",
       "    <tr>\n",
       "      <th>4</th>\n",
       "      <td>2</td>\n",
       "      <td>0.1</td>\n",
       "      <td>114</td>\n",
       "      <td>1.6</td>\n",
       "      <td>3.4</td>\n",
       "      <td>0.9</td>\n",
       "    </tr>\n",
       "  </tbody>\n",
       "</table>\n",
       "</div>"
      ],
      "text/plain": [
       "   Species  Area  Elevation  Nearest  Scruz  Adjacent\n",
       "0       58  25.1        346      1.1    0.6       1.0\n",
       "1       31   1.2        183      0.6    1.1       0.9\n",
       "2        3   0.1        109      1.5    2.8       0.8\n",
       "3       25   0.6        137      0.6    1.2       0.9\n",
       "4        2   0.1        114      1.6    3.4       0.9"
      ]
     },
     "execution_count": 2,
     "metadata": {},
     "output_type": "execute_result"
    }
   ],
   "source": [
    "# Recreate the 'galapagos' dataset\n",
    "\n",
    "data = {\n",
    "    'Species': [58, 31, 3, 25, 2, 24, 11, 15, 9, 8, 2, 17, 10, 16, 24, 21, 21, 27, 15, 11, 14, 14, 28, 23, 26, 8, 8, 24, 2, 8],\n",
    "    'Area': [25.1, 1.2, 0.1, 0.6, 0.1, 1.9, 0.5, 0.3, 0.1, 0.2, 0.1, 1.0, 0.3, 0.7, 0.6, 0.9, 1.1, 2.6, 1.0, 0.4, 0.6, 0.6, 2.5, 1.9, 2.8, 0.3, 0.2, 2.6, 0.1, 0.2],\n",
    "    'Elevation': [346, 183, 109, 137, 114, 137, 110, 99, 46, 47, 61, 132, 113, 137, 130, 132, 125, 140, 122, 120, 118, 121, 132, 120, 135, 110, 106, 133, 98, 115],\n",
    "    'Nearest': [1.1, 0.6, 1.5, 0.6, 1.6, 0.6, 0.6, 1.3, 0.7, 0.4, 0.2, 0.6, 1.0, 0.5, 0.7, 0.5, 0.5, 1.3, 0.8, 0.9, 0.7, 1.0, 0.9, 0.7, 0.6, 1.3, 1.1, 0.6, 0.5, 1.3],\n",
    "    'Scruz': [0.6, 1.1, 2.8, 1.2, 3.4, 1.3, 1.2, 2.0, 1.6, 1.2, 0.9, 1.0, 1.8, 1.0, 1.3, 1.0, 1.1, 1.9, 1.2, 1.4, 1.4, 1.6, 1.7, 1.3, 1.8, 2.0, 1.9, 1.1, 1.6, 2.1],\n",
    "    'Adjacent': [1.0, 0.9, 0.8, 0.9, 0.9, 0.8, 0.7, 0.8, 0.8, 0.7, 0.6, 0.8, 0.8, 0.7, 0.9, 0.9, 0.9, 0.9, 0.9, 0.8, 0.8, 0.9, 0.9, 0.8, 0.9, 0.7, 0.7, 0.9, 0.6, 0.8]\n",
    "}\n",
    "\n",
    "galapagos = pd.DataFrame(data)\n",
    "data = galapagos\n",
    "galapagos.head()\n"
   ]
  },
  {
   "cell_type": "code",
   "execution_count": 3,
   "id": "21cbb4f9-dfb8-4764-8176-c259dbb92352",
   "metadata": {},
   "outputs": [
    {
     "name": "stdout",
     "output_type": "stream",
     "text": [
      "<class 'pandas.core.frame.DataFrame'>\n",
      "RangeIndex: 30 entries, 0 to 29\n",
      "Data columns (total 6 columns):\n",
      " #   Column     Non-Null Count  Dtype  \n",
      "---  ------     --------------  -----  \n",
      " 0   Species    30 non-null     int64  \n",
      " 1   Area       30 non-null     float64\n",
      " 2   Elevation  30 non-null     int64  \n",
      " 3   Nearest    30 non-null     float64\n",
      " 4   Scruz      30 non-null     float64\n",
      " 5   Adjacent   30 non-null     float64\n",
      "dtypes: float64(4), int64(2)\n",
      "memory usage: 1.5 KB\n"
     ]
    }
   ],
   "source": [
    "data.info()"
   ]
  },
  {
   "cell_type": "code",
   "execution_count": 4,
   "id": "80b5e395-b390-43d7-a2bc-f073aba4cdbd",
   "metadata": {},
   "outputs": [
    {
     "data": {
      "text/plain": [
       "Species        int64\n",
       "Area         float64\n",
       "Elevation      int64\n",
       "Nearest      float64\n",
       "Scruz        float64\n",
       "Adjacent     float64\n",
       "dtype: object"
      ]
     },
     "execution_count": 4,
     "metadata": {},
     "output_type": "execute_result"
    }
   ],
   "source": [
    "data.dtypes"
   ]
  },
  {
   "cell_type": "code",
   "execution_count": 5,
   "id": "08b1fe06-2d38-439a-8bcc-812d3796f5b3",
   "metadata": {},
   "outputs": [
    {
     "data": {
      "text/plain": [
       "Species      0\n",
       "Area         0\n",
       "Elevation    0\n",
       "Nearest      0\n",
       "Scruz        0\n",
       "Adjacent     0\n",
       "dtype: int64"
      ]
     },
     "execution_count": 5,
     "metadata": {},
     "output_type": "execute_result"
    }
   ],
   "source": [
    "#Check nulls\n",
    "data.isnull().sum()"
   ]
  },
  {
   "cell_type": "code",
   "execution_count": 6,
   "id": "1ab4b5fa-84fe-4432-a12b-fe8ffd86aba2",
   "metadata": {},
   "outputs": [],
   "source": [
    "# Define Variables\n",
    "\n",
    "X = data[['Area']]  # Independent variable (Area of the island) -- Returns a Pandas DataFrame (2D).\n",
    "y = data['Species']  # Dependent variable (Number of species) -- Returns a Pandas DataFrame (1D)."
   ]
  },
  {
   "cell_type": "markdown",
   "id": "e48b42b6-0715-4d84-9445-cbea42b5773a",
   "metadata": {},
   "source": [
    "X: Should have two dimensions (e.g., (n, 1)), where n is the number of data points. This is because sklearn's LinearRegression expects a 2D array for the independent variable.\n",
    "\n",
    "y: Should have one dimension (e.g., (n,)), corresponding to the number of data points."
   ]
  },
  {
   "cell_type": "code",
   "execution_count": 7,
   "id": "928ef432-1410-428c-aaae-0c8675c7e650",
   "metadata": {},
   "outputs": [
    {
     "data": {
      "text/html": [
       "<div>\n",
       "<style scoped>\n",
       "    .dataframe tbody tr th:only-of-type {\n",
       "        vertical-align: middle;\n",
       "    }\n",
       "\n",
       "    .dataframe tbody tr th {\n",
       "        vertical-align: top;\n",
       "    }\n",
       "\n",
       "    .dataframe thead th {\n",
       "        text-align: right;\n",
       "    }\n",
       "</style>\n",
       "<table border=\"1\" class=\"dataframe\">\n",
       "  <thead>\n",
       "    <tr style=\"text-align: right;\">\n",
       "      <th></th>\n",
       "      <th>Area</th>\n",
       "    </tr>\n",
       "  </thead>\n",
       "  <tbody>\n",
       "    <tr>\n",
       "      <th>25</th>\n",
       "      <td>0.3</td>\n",
       "    </tr>\n",
       "    <tr>\n",
       "      <th>26</th>\n",
       "      <td>0.2</td>\n",
       "    </tr>\n",
       "    <tr>\n",
       "      <th>27</th>\n",
       "      <td>2.6</td>\n",
       "    </tr>\n",
       "    <tr>\n",
       "      <th>28</th>\n",
       "      <td>0.1</td>\n",
       "    </tr>\n",
       "    <tr>\n",
       "      <th>29</th>\n",
       "      <td>0.2</td>\n",
       "    </tr>\n",
       "  </tbody>\n",
       "</table>\n",
       "</div>"
      ],
      "text/plain": [
       "    Area\n",
       "25   0.3\n",
       "26   0.2\n",
       "27   2.6\n",
       "28   0.1\n",
       "29   0.2"
      ]
     },
     "execution_count": 7,
     "metadata": {},
     "output_type": "execute_result"
    }
   ],
   "source": [
    "X.tail()"
   ]
  },
  {
   "cell_type": "code",
   "execution_count": 8,
   "id": "f9320308-3343-45c2-b7a9-c0d16c4b2588",
   "metadata": {},
   "outputs": [
    {
     "data": {
      "text/plain": [
       "(30,)"
      ]
     },
     "execution_count": 8,
     "metadata": {},
     "output_type": "execute_result"
    }
   ],
   "source": [
    "y.shape"
   ]
  },
  {
   "cell_type": "code",
   "execution_count": 9,
   "id": "a6044d43-e94a-4f39-a378-b263eee9cae5",
   "metadata": {},
   "outputs": [
    {
     "data": {
      "text/plain": [
       "(30, 1)"
      ]
     },
     "execution_count": 9,
     "metadata": {},
     "output_type": "execute_result"
    }
   ],
   "source": [
    "X.shape"
   ]
  },
  {
   "cell_type": "code",
   "execution_count": 10,
   "id": "a45be3d3-df66-4fbb-81bf-8cf7c45970a2",
   "metadata": {},
   "outputs": [
    {
     "name": "stdout",
     "output_type": "stream",
     "text": [
      "   const  Area\n",
      "0    1.0  25.1\n",
      "1    1.0   1.2\n",
      "2    1.0   0.1\n",
      "3    1.0   0.6\n",
      "4    1.0   0.1\n",
      "X shape: (30, 2)\n"
     ]
    }
   ],
   "source": [
    "# Add constant term to X and the constant will be a column of \"1\" / it will be used to fit the model in python\n",
    "X = sm.add_constant(X)\n",
    "\n",
    "# Inspect the first few rows of X to verify the constant column was added\n",
    "print(X.head())\n",
    "\n",
    "# Check the dimensions of X to ensure an additional column was added\n",
    "print(f\"X shape: {X.shape}\")"
   ]
  },
  {
   "cell_type": "code",
   "execution_count": 11,
   "id": "d21fd52d-d26f-426f-a8dc-3798af9ea956",
   "metadata": {},
   "outputs": [
    {
     "data": {
      "image/png": "[encoded data removed]",
      "text/plain": [
       "<Figure size 640x480 with 1 Axes>"
      ]
     },
     "metadata": {},
     "output_type": "display_data"
    }
   ],
   "source": [
    "# Create scatterplot\n",
    "sns.scatterplot(x=data['Area'], y=data['Species'])\n",
    "plt.title('Scatterplot: Area vs Species')\n",
    "plt.xlabel('Island Area (sq km)')\n",
    "plt.ylabel('Number of Species')\n",
    "plt.grid(True)\n",
    "plt.show()"
   ]
  },
  {
   "cell_type": "markdown",
   "id": "da1df874-30d0-4ad9-a6ca-71b511c503a5",
   "metadata": {},
   "source": [
    "### Fit the regression model"
   ]
  },
  {
   "cell_type": "code",
   "execution_count": 12,
   "id": "3e37b0ce-8265-4d35-9695-c8bf34d8b371",
   "metadata": {},
   "outputs": [
    {
     "name": "stdout",
     "output_type": "stream",
     "text": [
      "Regression Line: y = 13.49 + 1.98x\n",
      "Correlation Coefficient (r): 0.77\n"
     ]
    }
   ],
   "source": [
    "model = sm.OLS(y, X).fit()\n",
    "\n",
    "# Get regression coefficients\n",
    "b0 = model.params['const']  # Intercept\n",
    "b1 = model.params['Area']  # Slope\n",
    "\n",
    "# Compute the correlation coefficient\n",
    "r = np.corrcoef(data['Area'], data['Species'])[0, 1]\n",
    "\n",
    "\n",
    "# Print the regression line equation and correlation coefficient\n",
    "print(f\"Regression Line: y = {b0:.2f} + {b1:.2f}x\")\n",
    "print(f\"Correlation Coefficient (r): {r:.2f}\")"
   ]
  },
  {
   "cell_type": "code",
   "execution_count": 13,
   "id": "1afff2fe-f42a-47f8-892d-5e7b7cb0d9fb",
   "metadata": {},
   "outputs": [
    {
     "data": {
      "text/html": [
       "<table class=\"simpletable\">\n",
       "<caption>OLS Regression Results</caption>\n",
       "<tr>\n",
       "  <th>Dep. Variable:</th>         <td>Species</td>     <th>  R-squared:         </th> <td>   0.596</td>\n",
       "</tr>\n",
       "<tr>\n",
       "  <th>Model:</th>                   <td>OLS</td>       <th>  Adj. R-squared:    </th> <td>   0.582</td>\n",
       "</tr>\n",
       "<tr>\n",
       "  <th>Method:</th>             <td>Least Squares</td>  <th>  F-statistic:       </th> <td>   41.36</td>\n",
       "</tr>\n",
       "<tr>\n",
       "  <th>Date:</th>             <td>Mon, 16 Jun 2025</td> <th>  Prob (F-statistic):</th> <td>5.78e-07</td>\n",
       "</tr>\n",
       "<tr>\n",
       "  <th>Time:</th>                 <td>11:08:07</td>     <th>  Log-Likelihood:    </th> <td> -101.84</td>\n",
       "</tr>\n",
       "<tr>\n",
       "  <th>No. Observations:</th>      <td>    30</td>      <th>  AIC:               </th> <td>   207.7</td>\n",
       "</tr>\n",
       "<tr>\n",
       "  <th>Df Residuals:</th>          <td>    28</td>      <th>  BIC:               </th> <td>   210.5</td>\n",
       "</tr>\n",
       "<tr>\n",
       "  <th>Df Model:</th>              <td>     1</td>      <th>                     </th>     <td> </td>   \n",
       "</tr>\n",
       "<tr>\n",
       "  <th>Covariance Type:</th>      <td>nonrobust</td>    <th>                     </th>     <td> </td>   \n",
       "</tr>\n",
       "</table>\n",
       "<table class=\"simpletable\">\n",
       "<tr>\n",
       "    <td></td>       <th>coef</th>     <th>std err</th>      <th>t</th>      <th>P>|t|</th>  <th>[0.025</th>    <th>0.975]</th>  \n",
       "</tr>\n",
       "<tr>\n",
       "  <th>const</th> <td>   13.4937</td> <td>    1.458</td> <td>    9.253</td> <td> 0.000</td> <td>   10.506</td> <td>   16.481</td>\n",
       "</tr>\n",
       "<tr>\n",
       "  <th>Area</th>  <td>    1.9800</td> <td>    0.308</td> <td>    6.431</td> <td> 0.000</td> <td>    1.349</td> <td>    2.611</td>\n",
       "</tr>\n",
       "</table>\n",
       "<table class=\"simpletable\">\n",
       "<tr>\n",
       "  <th>Omnibus:</th>       <td> 1.790</td> <th>  Durbin-Watson:     </th> <td>   2.368</td>\n",
       "</tr>\n",
       "<tr>\n",
       "  <th>Prob(Omnibus):</th> <td> 0.409</td> <th>  Jarque-Bera (JB):  </th> <td>   1.095</td>\n",
       "</tr>\n",
       "<tr>\n",
       "  <th>Skew:</th>          <td> 0.081</td> <th>  Prob(JB):          </th> <td>   0.578</td>\n",
       "</tr>\n",
       "<tr>\n",
       "  <th>Kurtosis:</th>      <td> 2.078</td> <th>  Cond. No.          </th> <td>    5.10</td>\n",
       "</tr>\n",
       "</table><br/><br/>Notes:<br/>[1] Standard Errors assume that the covariance matrix of the errors is correctly specified."
      ],
      "text/latex": [
       "\\begin{center}\n",
       "\\begin{tabular}{lclc}\n",
       "\\toprule\n",
       "\\textbf{Dep. Variable:}    &     Species      & \\textbf{  R-squared:         } &     0.596   \\\\\n",
       "\\textbf{Model:}            &       OLS        & \\textbf{  Adj. R-squared:    } &     0.582   \\\\\n",
       "\\textbf{Method:}           &  Least Squares   & \\textbf{  F-statistic:       } &     41.36   \\\\\n",
       "\\textbf{Date:}             & Mon, 16 Jun 2025 & \\textbf{  Prob (F-statistic):} &  5.78e-07   \\\\\n",
       "\\textbf{Time:}             &     11:08:07     & \\textbf{  Log-Likelihood:    } &   -101.84   \\\\\n",
       "\\textbf{No. Observations:} &          30      & \\textbf{  AIC:               } &     207.7   \\\\\n",
       "\\textbf{Df Residuals:}     &          28      & \\textbf{  BIC:               } &     210.5   \\\\\n",
       "\\textbf{Df Model:}         &           1      & \\textbf{                     } &             \\\\\n",
       "\\textbf{Covariance Type:}  &    nonrobust     & \\textbf{                     } &             \\\\\n",
       "\\bottomrule\n",
       "\\end{tabular}\n",
       "\\begin{tabular}{lcccccc}\n",
       "               & \\textbf{coef} & \\textbf{std err} & \\textbf{t} & \\textbf{P$> |$t$|$} & \\textbf{[0.025} & \\textbf{0.975]}  \\\\\n",
       "\\midrule\n",
       "\\textbf{const} &      13.4937  &        1.458     &     9.253  &         0.000        &       10.506    &       16.481     \\\\\n",
       "\\textbf{Area}  &       1.9800  &        0.308     &     6.431  &         0.000        &        1.349    &        2.611     \\\\\n",
       "\\bottomrule\n",
       "\\end{tabular}\n",
       "\\begin{tabular}{lclc}\n",
       "\\textbf{Omnibus:}       &  1.790 & \\textbf{  Durbin-Watson:     } &    2.368  \\\\\n",
       "\\textbf{Prob(Omnibus):} &  0.409 & \\textbf{  Jarque-Bera (JB):  } &    1.095  \\\\\n",
       "\\textbf{Skew:}          &  0.081 & \\textbf{  Prob(JB):          } &    0.578  \\\\\n",
       "\\textbf{Kurtosis:}      &  2.078 & \\textbf{  Cond. No.          } &     5.10  \\\\\n",
       "\\bottomrule\n",
       "\\end{tabular}\n",
       "%\\caption{OLS Regression Results}\n",
       "\\end{center}\n",
       "\n",
       "Notes: \\newline\n",
       " [1] Standard Errors assume that the covariance matrix of the errors is correctly specified."
      ],
      "text/plain": [
       "<class 'statsmodels.iolib.summary.Summary'>\n",
       "\"\"\"\n",
       "                            OLS Regression Results                            \n",
       "==============================================================================\n",
       "Dep. Variable:                Species   R-squared:                       0.596\n",
       "Model:                            OLS   Adj. R-squared:                  0.582\n",
       "Method:                 Least Squares   F-statistic:                     41.36\n",
       "Date:                Mon, 16 Jun 2025   Prob (F-statistic):           5.78e-07\n",
       "Time:                        11:08:07   Log-Likelihood:                -101.84\n",
       "No. Observations:                  30   AIC:                             207.7\n",
       "Df Residuals:                      28   BIC:                             210.5\n",
       "Df Model:                           1                                         \n",
       "Covariance Type:            nonrobust                                         \n",
       "==============================================================================\n",
       "                 coef    std err          t      P>|t|      [0.025      0.975]\n",
       "------------------------------------------------------------------------------\n",
       "const         13.4937      1.458      9.253      0.000      10.506      16.481\n",
       "Area           1.9800      0.308      6.431      0.000       1.349       2.611\n",
       "==============================================================================\n",
       "Omnibus:                        1.790   Durbin-Watson:                   2.368\n",
       "Prob(Omnibus):                  0.409   Jarque-Bera (JB):                1.095\n",
       "Skew:                           0.081   Prob(JB):                        0.578\n",
       "Kurtosis:                       2.078   Cond. No.                         5.10\n",
       "==============================================================================\n",
       "\n",
       "Notes:\n",
       "[1] Standard Errors assume that the covariance matrix of the errors is correctly specified.\n",
       "\"\"\""
      ]
     },
     "execution_count": 13,
     "metadata": {},
     "output_type": "execute_result"
    }
   ],
   "source": [
    "# Print the model summary for additional details\n",
    "model.summary()"
   ]
  },
  {
   "cell_type": "code",
   "execution_count": 14,
   "id": "852f6f40-c4d6-417b-8276-9cdcaac89f6e",
   "metadata": {},
   "outputs": [
    {
     "data": {
      "image/png": "[encoded data removed]",
      "text/plain": [
       "<Figure size 640x480 with 1 Axes>"
      ]
     },
     "metadata": {},
     "output_type": "display_data"
    }
   ],
   "source": [
    "# Generate predicted values\n",
    "y_pred = model.predict(X)\n",
    "\n",
    "# Plot scatterplot with regression line\n",
    "plt.scatter(data['Area'], data['Species'], color='blue', label='Data Points')\n",
    "plt.plot(data['Area'], y_pred, color='red', label='Regression Line')\n",
    "plt.title('Scatterplot with Regression Line')\n",
    "plt.xlabel('Island Area (sq km)')\n",
    "plt.ylabel('Number of Species')\n",
    "plt.legend()\n",
    "plt.grid(True)\n",
    "plt.show()"
   ]
  },
  {
   "cell_type": "markdown",
   "id": "ec92c525-fd66-42e6-a06f-1b53bb884e4c",
   "metadata": {},
   "source": [
    "# Module 2"
   ]
  },
  {
   "cell_type": "code",
   "execution_count": 15,
   "id": "ff4b9bad-3d32-4e29-8391-fd15266adfbc",
   "metadata": {},
   "outputs": [],
   "source": [
    "# Using statsmodels\n",
    "\n",
    "# Extract r-squared\n",
    "r_squared = model.rsquared\n",
    "\n",
    "\n",
    "# Using numpy\n",
    "\n",
    "# Predicted values\n",
    "y_pred = model.predict(X)\n",
    "\n",
    "# Compute r-squared manually\n",
    "# Total sum of squares\n",
    "ss_total = np.sum((y - np.mean(y)) ** 2)\n",
    "# Residual sum of squares \n",
    "ss_residual = np.sum((y - y_pred) ** 2)\n",
    "\n",
    "r_squared_manual = 1 - (ss_residual / ss_total)"
   ]
  },
  {
   "cell_type": "code",
   "execution_count": 16,
   "id": "76ba6338-dbcb-4101-b671-14063d48fb4b",
   "metadata": {},
   "outputs": [
    {
     "data": {
      "text/plain": [
       "0.5963068397829343"
      ]
     },
     "execution_count": 16,
     "metadata": {},
     "output_type": "execute_result"
    }
   ],
   "source": [
    "r_squared_manual"
   ]
  },
  {
   "cell_type": "code",
   "execution_count": 17,
   "id": "da5ffc08-7715-4df2-afd6-3bfde6aa46f5",
   "metadata": {},
   "outputs": [
    {
     "data": {
      "text/plain": [
       "0.5963068397829343"
      ]
     },
     "execution_count": 17,
     "metadata": {},
     "output_type": "execute_result"
    }
   ],
   "source": [
    "r_squared"
   ]
  },
  {
   "cell_type": "code",
   "execution_count": 19,
   "id": "3119e582-8a2f-4f53-92fa-825c853206e8",
   "metadata": {},
   "outputs": [
    {
     "data": {
      "text/plain": [
       "0     -5.192478\n",
       "1     15.130282\n",
       "2    -10.691683\n",
       "3     10.318301\n",
       "4    -11.691683\n",
       "5      6.744260\n",
       "6     -3.483696\n",
       "7      0.912311\n",
       "8     -4.691683\n",
       "9     -5.889686\n",
       "10   -11.691683\n",
       "11     1.526289\n",
       "12    -4.087689\n",
       "13     1.120298\n",
       "14     9.318301\n",
       "15     5.724292\n",
       "16     5.328285\n",
       "17     8.358238\n",
       "18    -0.473711\n",
       "19    -3.285692\n",
       "20    -0.681699\n",
       "21    -0.681699\n",
       "22     9.556241\n",
       "23     5.744260\n",
       "24     6.962231\n",
       "25    -6.087689\n",
       "26    -5.889686\n",
       "27     5.358238\n",
       "28   -11.691683\n",
       "29    -5.889686\n",
       "dtype: float64"
      ]
     },
     "execution_count": 19,
     "metadata": {},
     "output_type": "execute_result"
    }
   ],
   "source": [
    "# Compute residuals\n",
    "residuals = model.resid\n",
    "residuals"
   ]
  },
  {
   "cell_type": "code",
   "execution_count": 20,
   "id": "21e74ca9-44d4-4fdc-b1aa-172a542f37d1",
   "metadata": {},
   "outputs": [
    {
     "data": {
      "image/png": "[encoded data removed]",
      "text/plain": [
       "<Figure size 640x480 with 1 Axes>"
      ]
     },
     "metadata": {},
     "output_type": "display_data"
    }
   ],
   "source": [
    "# Residual plot\n",
    "plt.scatter(y_pred, residuals, color='blue', alpha=0.7)\n",
    "plt.axhline(0, color='red', linestyle='--', linewidth=1)\n",
    "plt.title('Residual Plot')\n",
    "plt.xlabel('Predicted Values ($\\hat{y}$)')\n",
    "plt.ylabel('Residuals ($e_i$)')\n",
    "plt.grid(True)\n",
    "plt.show()"
   ]
  },
  {
   "cell_type": "markdown",
   "id": "a9446892-e114-470e-b51b-3ed0dedd0fb3",
   "metadata": {},
   "source": [
    "## Example 2"
   ]
  },
  {
   "cell_type": "code",
   "execution_count": 21,
   "id": "1ec7abc0-7927-4df5-9216-48b72144814d",
   "metadata": {},
   "outputs": [
    {
     "data": {
      "image/png": "[encoded data removed]",
      "text/plain": [
       "<Figure size 640x480 with 1 Axes>"
      ]
     },
     "metadata": {},
     "output_type": "display_data"
    },
    {
     "name": "stdout",
     "output_type": "stream",
     "text": [
      "Influential Points: [50]\n"
     ]
    }
   ],
   "source": [
    "# Generate example data\n",
    "np.random.seed(42)\n",
    "x = np.random.rand(50) * 100  # Independent variable\n",
    "y = 2.5 * x + np.random.normal(size=50, scale=10)  # Dependent variable\n",
    "\n",
    "# Add an influential point\n",
    "x = np.append(x, 150)  # High leverage\n",
    "y = np.append(y, 50)   # Low y value relative to x\n",
    "\n",
    "# Fit the regression model\n",
    "X = sm.add_constant(x)\n",
    "model = sm.OLS(y, X).fit()\n",
    "\n",
    "# Compute Cook's Distance\n",
    "influence = model.get_influence()\n",
    "cooks_d = influence.cooks_distance[0]\n",
    "\n",
    "# Plot Cook's Distance\n",
    "plt.stem(np.arange(len(cooks_d)), cooks_d, basefmt=\" \")\n",
    "plt.axhline(1, color='red', linestyle='--', linewidth=1, label=\"Threshold (D > 1)\")\n",
    "plt.title(\"Cook's Distance\")\n",
    "plt.xlabel(\"Observation Index\")\n",
    "plt.ylabel(\"Cook's Distance\")\n",
    "plt.legend()\n",
    "plt.show()\n",
    "\n",
    "# Print influential points\n",
    "influential_points = np.where(cooks_d > 1)[0]\n",
    "print(f\"Influential Points: {influential_points}\")"
   ]
  },
  {
   "cell_type": "code",
   "execution_count": null,
   "id": "debcfcd0-821a-407b-8bcf-861cd8ba76c0",
   "metadata": {},
   "outputs": [],
   "source": []
  }
 ],
 "metadata": {
  "kernelspec": {
   "display_name": "Python (base)",
   "language": "python",
   "name": "base"
  },
  "language_info": {
   "codemirror_mode": {
    "name": "ipython",
    "version": 3
   },
   "file_extension": ".py",
   "mimetype": "text/x-python",
   "name": "python",
   "nbconvert_exporter": "python",
   "pygments_lexer": "ipython3",
   "version": "3.11.11"
  }
 },
 "nbformat": 4,
 "nbformat_minor": 5
}
