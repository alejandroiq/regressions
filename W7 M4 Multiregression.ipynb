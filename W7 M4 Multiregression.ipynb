{
 "cells": [
  {
   "cell_type": "code",
   "execution_count": 1,
   "id": "a0d326e2-5838-4a43-b832-01f3bab55182",
   "metadata": {},
   "outputs": [],
   "source": [
    "import pandas as pd\n",
    "import statsmodels.api as sm\n",
    "import matplotlib.pyplot as plt\n",
    "import seaborn as sns"
   ]
  },
  {
   "cell_type": "code",
   "execution_count": 2,
   "id": "ebe5ed1c-46ce-42a1-8bc9-7a22e92a1ffc",
   "metadata": {},
   "outputs": [
    {
     "name": "stdout",
     "output_type": "stream",
     "text": [
      "   square_footage  num_bedrooms  house_age  house_price\n",
      "0            1500             3         10       300000\n",
      "1            1800             3         15       350000\n",
      "2            2400             4         20       500000\n",
      "3            3000             4          5       600000\n",
      "4            3500             5          8       650000\n"
     ]
    }
   ],
   "source": [
    "# Create a sample dataset\n",
    "data = pd.DataFrame({\n",
    "    'square_footage': [1500, 1800, 2400, 3000, 3500, 4000, 4500, 2000, 2200, 3200],\n",
    "    'num_bedrooms': [3, 3, 4, 4, 5, 5, 6, 3, 3, 4],\n",
    "    'house_age': [10, 15, 20, 5, 8, 12, 25, 20, 18, 6],\n",
    "    'house_price': [300000, 350000, 500000, 600000, 650000, 700000, 750000, 400000, 420000, 580000]\n",
    "})\n",
    "\n",
    "# Display the first few rows\n",
    "print(data.head())"
   ]
  },
  {
   "cell_type": "code",
   "execution_count": 3,
   "id": "21a7c29d-7225-41f0-b67c-6cbe0ac80c35",
   "metadata": {},
   "outputs": [
    {
     "name": "stdout",
     "output_type": "stream",
     "text": [
      "(10, 4) (10,)\n"
     ]
    }
   ],
   "source": [
    "# Define predictors (independent variables) and response (dependent variable)\n",
    "X = data[['square_footage', 'num_bedrooms', 'house_age']]  # Independent variables\n",
    "X = sm.add_constant(X)  # Add a constant for the intercept\n",
    "y = data['house_price']  # Dependent variable\n",
    "\n",
    "\n",
    "# Verify shape\n",
    "print(X.shape, y.shape)"
   ]
  },
  {
   "cell_type": "code",
   "execution_count": 4,
   "id": "571a4e6a-567e-4af7-976a-bb4ba7a0e2c3",
   "metadata": {},
   "outputs": [
    {
     "data": {
      "text/html": [
       "<div>\n",
       "<style scoped>\n",
       "    .dataframe tbody tr th:only-of-type {\n",
       "        vertical-align: middle;\n",
       "    }\n",
       "\n",
       "    .dataframe tbody tr th {\n",
       "        vertical-align: top;\n",
       "    }\n",
       "\n",
       "    .dataframe thead th {\n",
       "        text-align: right;\n",
       "    }\n",
       "</style>\n",
       "<table border=\"1\" class=\"dataframe\">\n",
       "  <thead>\n",
       "    <tr style=\"text-align: right;\">\n",
       "      <th></th>\n",
       "      <th>const</th>\n",
       "      <th>square_footage</th>\n",
       "      <th>num_bedrooms</th>\n",
       "      <th>house_age</th>\n",
       "    </tr>\n",
       "  </thead>\n",
       "  <tbody>\n",
       "    <tr>\n",
       "      <th>0</th>\n",
       "      <td>1.0</td>\n",
       "      <td>1500</td>\n",
       "      <td>3</td>\n",
       "      <td>10</td>\n",
       "    </tr>\n",
       "    <tr>\n",
       "      <th>1</th>\n",
       "      <td>1.0</td>\n",
       "      <td>1800</td>\n",
       "      <td>3</td>\n",
       "      <td>15</td>\n",
       "    </tr>\n",
       "    <tr>\n",
       "      <th>2</th>\n",
       "      <td>1.0</td>\n",
       "      <td>2400</td>\n",
       "      <td>4</td>\n",
       "      <td>20</td>\n",
       "    </tr>\n",
       "    <tr>\n",
       "      <th>3</th>\n",
       "      <td>1.0</td>\n",
       "      <td>3000</td>\n",
       "      <td>4</td>\n",
       "      <td>5</td>\n",
       "    </tr>\n",
       "    <tr>\n",
       "      <th>4</th>\n",
       "      <td>1.0</td>\n",
       "      <td>3500</td>\n",
       "      <td>5</td>\n",
       "      <td>8</td>\n",
       "    </tr>\n",
       "    <tr>\n",
       "      <th>5</th>\n",
       "      <td>1.0</td>\n",
       "      <td>4000</td>\n",
       "      <td>5</td>\n",
       "      <td>12</td>\n",
       "    </tr>\n",
       "    <tr>\n",
       "      <th>6</th>\n",
       "      <td>1.0</td>\n",
       "      <td>4500</td>\n",
       "      <td>6</td>\n",
       "      <td>25</td>\n",
       "    </tr>\n",
       "    <tr>\n",
       "      <th>7</th>\n",
       "      <td>1.0</td>\n",
       "      <td>2000</td>\n",
       "      <td>3</td>\n",
       "      <td>20</td>\n",
       "    </tr>\n",
       "    <tr>\n",
       "      <th>8</th>\n",
       "      <td>1.0</td>\n",
       "      <td>2200</td>\n",
       "      <td>3</td>\n",
       "      <td>18</td>\n",
       "    </tr>\n",
       "    <tr>\n",
       "      <th>9</th>\n",
       "      <td>1.0</td>\n",
       "      <td>3200</td>\n",
       "      <td>4</td>\n",
       "      <td>6</td>\n",
       "    </tr>\n",
       "  </tbody>\n",
       "</table>\n",
       "</div>"
      ],
      "text/plain": [
       "   const  square_footage  num_bedrooms  house_age\n",
       "0    1.0            1500             3         10\n",
       "1    1.0            1800             3         15\n",
       "2    1.0            2400             4         20\n",
       "3    1.0            3000             4          5\n",
       "4    1.0            3500             5          8\n",
       "5    1.0            4000             5         12\n",
       "6    1.0            4500             6         25\n",
       "7    1.0            2000             3         20\n",
       "8    1.0            2200             3         18\n",
       "9    1.0            3200             4          6"
      ]
     },
     "execution_count": 4,
     "metadata": {},
     "output_type": "execute_result"
    }
   ],
   "source": [
    "X"
   ]
  },
  {
   "cell_type": "code",
   "execution_count": 5,
   "id": "767d0b7b-0cde-441b-a07d-f6252d32a61f",
   "metadata": {},
   "outputs": [
    {
     "name": "stdout",
     "output_type": "stream",
     "text": [
      "                            OLS Regression Results                            \n",
      "==============================================================================\n",
      "Dep. Variable:            house_price   R-squared:                       0.975\n",
      "Model:                            OLS   Adj. R-squared:                  0.963\n",
      "Method:                 Least Squares   F-statistic:                     79.16\n",
      "Date:                Mon, 16 Jun 2025   Prob (F-statistic):           3.24e-05\n",
      "Time:                        20:30:34   Log-Likelihood:                -114.61\n",
      "No. Observations:                  10   AIC:                             237.2\n",
      "Df Residuals:                       6   BIC:                             238.4\n",
      "Df Model:                           3                                         \n",
      "Covariance Type:            nonrobust                                         \n",
      "==================================================================================\n",
      "                     coef    std err          t      P>|t|      [0.025      0.975]\n",
      "----------------------------------------------------------------------------------\n",
      "const            1.02e+05    4.8e+04      2.125      0.078   -1.54e+04    2.19e+05\n",
      "square_footage   140.5529     35.012      4.014      0.007      54.881     226.225\n",
      "num_bedrooms    1.263e+04   3.32e+04      0.381      0.716   -6.85e+04    9.38e+04\n",
      "house_age      -1615.4237   1523.778     -1.060      0.330   -5343.974    2113.126\n",
      "==============================================================================\n",
      "Omnibus:                        0.759   Durbin-Watson:                   1.221\n",
      "Prob(Omnibus):                  0.684   Jarque-Bera (JB):                0.619\n",
      "Skew:                           0.490   Prob(JB):                        0.734\n",
      "Kurtosis:                       2.274   Cond. No.                     1.71e+04\n",
      "==============================================================================\n",
      "\n",
      "Notes:\n",
      "[1] Standard Errors assume that the covariance matrix of the errors is correctly specified.\n",
      "[2] The condition number is large, 1.71e+04. This might indicate that there are\n",
      "strong multicollinearity or other numerical problems.\n"
     ]
    },
    {
     "name": "stderr",
     "output_type": "stream",
     "text": [
      "C:\\Users\\aleja\\anaconda3\\Lib\\site-packages\\scipy\\stats\\_axis_nan_policy.py:531: UserWarning: kurtosistest only valid for n>=20 ... continuing anyway, n=10\n",
      "  res = hypotest_fun_out(*samples, **kwds)\n"
     ]
    }
   ],
   "source": [
    "# Fit the Multiple Linear Regression model\n",
    "model = sm.OLS(y, X).fit()\n",
    "\n",
    "# Print the model summary\n",
    "print(model.summary())"
   ]
  },
  {
   "cell_type": "code",
   "execution_count": null,
   "id": "a417d6b3-5b9e-4e27-9604-d1d7929533dc",
   "metadata": {},
   "outputs": [],
   "source": []
  }
 ],
 "metadata": {
  "kernelspec": {
   "display_name": "Python (base)",
   "language": "python",
   "name": "base"
  },
  "language_info": {
   "codemirror_mode": {
    "name": "ipython",
    "version": 3
   },
   "file_extension": ".py",
   "mimetype": "text/x-python",
   "name": "python",
   "nbconvert_exporter": "python",
   "pygments_lexer": "ipython3",
   "version": "3.11.11"
  }
 },
 "nbformat": 4,
 "nbformat_minor": 5
}
