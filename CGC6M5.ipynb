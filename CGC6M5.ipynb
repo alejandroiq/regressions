{
 "cells": [
  {
   "cell_type": "markdown",
   "metadata": {
    "id": "-iHUT5vDAZgK"
   },
   "source": [
    "## Module 5: General Linear Regression and Statistical Inference"
   ]
  },
  {
   "cell_type": "markdown",
   "metadata": {
    "id": "vHnXvUURAeto"
   },
   "source": [
    "### Step 0\n",
    "\n",
    "Load the appropriate libraries and bring in the data. Note that we have to run a script to get the [California Housing dataset](https://scikit-learn.org/stable/modules/generated/sklearn.datasets.fetch_california_housing.html) to match as it is in scikit-learn. We cannot pull it directly from scikit-learn since CodeGrade cannot access the internet."
   ]
  },
  {
   "cell_type": "code",
   "execution_count": 1,
   "metadata": {
    "id": "99AfKmqPyD4V"
   },
   "outputs": [],
   "source": [
    "# CodeGrade step0\n",
    "\n",
    "from sklearn.datasets import fetch_california_housing\n",
    "import pandas as pd\n",
    "import numpy as np\n",
    "import matplotlib.pyplot as plt\n",
    "from sklearn.linear_model import LinearRegression\n",
    "from scipy.stats import pearsonr\n",
    "import os\n",
    "import tarfile\n",
    "import joblib # Import joblib directly\n",
    "from sklearn.datasets._base import _pkl_filepath, get_data_home\n",
    "import statsmodels.api as sm\n",
    "import statsmodels.formula.api as smf\n",
    "import seaborn as sns\n",
    "\n",
    "archive_path = \"cal_housing.tgz\" # change the path if it's not in the current directory\n",
    "data_home = get_data_home(data_home=None) # change data_home if you are not using ~/scikit_learn_data\n",
    "if not os.path.exists(data_home):\n",
    "    os.makedirs(data_home)\n",
    "filepath = _pkl_filepath(data_home, 'cal_housing.pkz')\n",
    "\n",
    "with tarfile.open(mode=\"r:gz\", name=archive_path) as f:\n",
    "    cal_housing = np.loadtxt(\n",
    "        f.extractfile('CaliforniaHousing/cal_housing.data'),\n",
    "        delimiter=',')\n",
    "    # Columns are not in the same order compared to the previous\n",
    "    # URL resource on lib.stat.cmu.edu\n",
    "    columns_index = [8, 7, 2, 3, 4, 5, 6, 1, 0]\n",
    "    cal_housing = cal_housing[:, columns_index]\n",
    "\n",
    "    joblib.dump(cal_housing, filepath, compress=6) # Now using the directly imported joblib\n",
    "\n",
    "\n",
    "# Load the dataset\n",
    "california = fetch_california_housing(as_frame=True)\n",
    "data = california.data\n",
    "data['MedianHouseValue'] = california.target"
   ]
  },
  {
   "cell_type": "markdown",
   "metadata": {
    "id": "giqgu5WUAgjw"
   },
   "source": [
    "Print the basic information of the data using `.info()` and `.describe`."
   ]
  },
  {
   "cell_type": "code",
   "execution_count": 2,
   "metadata": {
    "id": "jt8ei2mGydmu"
   },
   "outputs": [
    {
     "name": "stdout",
     "output_type": "stream",
     "text": [
      "<class 'pandas.core.frame.DataFrame'>\n",
      "RangeIndex: 20640 entries, 0 to 20639\n",
      "Data columns (total 9 columns):\n",
      " #   Column            Non-Null Count  Dtype  \n",
      "---  ------            --------------  -----  \n",
      " 0   MedInc            20640 non-null  float64\n",
      " 1   HouseAge          20640 non-null  float64\n",
      " 2   AveRooms          20640 non-null  float64\n",
      " 3   AveBedrms         20640 non-null  float64\n",
      " 4   Population        20640 non-null  float64\n",
      " 5   AveOccup          20640 non-null  float64\n",
      " 6   Latitude          20640 non-null  float64\n",
      " 7   Longitude         20640 non-null  float64\n",
      " 8   MedianHouseValue  20640 non-null  float64\n",
      "dtypes: float64(9)\n",
      "memory usage: 1.4 MB\n",
      "None\n",
      "             MedInc      HouseAge      AveRooms     AveBedrms    Population  \\\n",
      "count  20640.000000  20640.000000  20640.000000  20640.000000  20640.000000   \n",
      "mean       3.870671     28.639486      5.429000      1.096675   1425.476744   \n",
      "std        1.899822     12.585558      2.474173      0.473911   1132.462122   \n",
      "min        0.499900      1.000000      0.846154      0.333333      3.000000   \n",
      "25%        2.563400     18.000000      4.440716      1.006079    787.000000   \n",
      "50%        3.534800     29.000000      5.229129      1.048780   1166.000000   \n",
      "75%        4.743250     37.000000      6.052381      1.099526   1725.000000   \n",
      "max       15.000100     52.000000    141.909091     34.066667  35682.000000   \n",
      "\n",
      "           AveOccup      Latitude     Longitude  MedianHouseValue  \n",
      "count  20640.000000  20640.000000  20640.000000      20640.000000  \n",
      "mean       3.070655     35.631861   -119.569704          2.068558  \n",
      "std       10.386050      2.135952      2.003532          1.153956  \n",
      "min        0.692308     32.540000   -124.350000          0.149990  \n",
      "25%        2.429741     33.930000   -121.800000          1.196000  \n",
      "50%        2.818116     34.260000   -118.490000          1.797000  \n",
      "75%        3.282261     37.710000   -118.010000          2.647250  \n",
      "max     1243.333333     41.950000   -114.310000          5.000010  \n"
     ]
    }
   ],
   "source": [
    "# Display basic information\n",
    "print(data.info())\n",
    "print(data.describe())"
   ]
  },
  {
   "cell_type": "markdown",
   "metadata": {
    "id": "LPgA030kAoI2"
   },
   "source": [
    "### Step 1\n",
    "\n",
    "Let `X` be the variables `MedInc`, `AveRooms`, and `AveOccup` and add the constant for the intercept. Let `y` be the `MedianHouseValue`.\n",
    "\n",
    "Now fit the regreson model calling it `mlr_model`.\n",
    "\n",
    "Finally, return the $r^2$ value of the model rounding to four decimal places."
   ]
  },
  {
   "cell_type": "code",
   "execution_count": 3,
   "metadata": {
    "id": "UiWsfxWsyfG4"
   },
   "outputs": [
    {
     "data": {
      "text/plain": [
       "0.4808"
      ]
     },
     "execution_count": 3,
     "metadata": {},
     "output_type": "execute_result"
    }
   ],
   "source": [
    "# CodeGrade step1\n",
    "X = data[['MedInc', 'AveRooms', 'AveOccup']]\n",
    "y = data['MedianHouseValue']\n",
    "X = sm.add_constant(X)\n",
    "mlr_model = smf.ols(formula='MedianHouseValue ~ MedInc + AveRooms + AveOccup', data=data).fit()\n",
    "round(mlr_model.rsquared, 4)"
   ]
  },
  {
   "cell_type": "markdown",
   "metadata": {
    "id": "EwHukQYxBChE"
   },
   "source": [
    "Print the model summary."
   ]
  },
  {
   "cell_type": "code",
   "execution_count": 4,
   "metadata": {
    "id": "BVMO2EcHzCt6"
   },
   "outputs": [
    {
     "name": "stdout",
     "output_type": "stream",
     "text": [
      "                            OLS Regression Results                            \n",
      "==============================================================================\n",
      "Dep. Variable:       MedianHouseValue   R-squared:                       0.481\n",
      "Model:                            OLS   Adj. R-squared:                  0.481\n",
      "Method:                 Least Squares   F-statistic:                     6370.\n",
      "Date:                Tue, 17 Jun 2025   Prob (F-statistic):               0.00\n",
      "Time:                        16:50:55   Log-Likelihood:                -25477.\n",
      "No. Observations:               20640   AIC:                         5.096e+04\n",
      "Df Residuals:                   20636   BIC:                         5.099e+04\n",
      "Df Model:                           3                                         \n",
      "Covariance Type:            nonrobust                                         \n",
      "==============================================================================\n",
      "                 coef    std err          t      P>|t|      [0.025      0.975]\n",
      "------------------------------------------------------------------------------\n",
      "Intercept      0.6069      0.016     37.444      0.000       0.575       0.639\n",
      "MedInc         0.4347      0.003    134.806      0.000       0.428       0.441\n",
      "AveRooms      -0.0383      0.002    -15.482      0.000      -0.043      -0.033\n",
      "AveOccup      -0.0042      0.001     -7.488      0.000      -0.005      -0.003\n",
      "==============================================================================\n",
      "Omnibus:                     4836.746   Durbin-Watson:                   0.693\n",
      "Prob(Omnibus):                  0.000   Jarque-Bera (JB):            12992.753\n",
      "Skew:                           1.256   Prob(JB):                         0.00\n",
      "Kurtosis:                       5.965   Cond. No.                         31.4\n",
      "==============================================================================\n",
      "\n",
      "Notes:\n",
      "[1] Standard Errors assume that the covariance matrix of the errors is correctly specified.\n"
     ]
    }
   ],
   "source": [
    "# Print the model summary\n",
    "print(mlr_model.summary())"
   ]
  },
  {
   "cell_type": "markdown",
   "metadata": {
    "id": "P5akEN0BBEhH"
   },
   "source": [
    "### Step 2\n",
    "\n",
    "Let `p_values` be the models' p-values.\n",
    "\n",
    "Return the four p-values using `.iloc[]` from the first value to the fourth, in order and separated by commas. Make sure to round each to 5 decimal places."
   ]
  },
  {
   "cell_type": "code",
   "execution_count": 13,
   "metadata": {
    "id": "wIngVeY4zSZT"
   },
   "outputs": [
    {
     "data": {
      "text/plain": [
       "Intercept    0.0\n",
       "MedInc       0.0\n",
       "AveRooms     0.0\n",
       "AveOccup     0.0\n",
       "dtype: float64"
      ]
     },
     "execution_count": 13,
     "metadata": {},
     "output_type": "execute_result"
    }
   ],
   "source": [
    "# CodeGrade step2\n",
    "models_pvalue = mlr_model.pvalues\n",
    "round(models_pvalue.iloc[0:4],5)"
   ]
  },
  {
   "cell_type": "code",
   "execution_count": 14,
   "metadata": {},
   "outputs": [
    {
     "data": {
      "text/plain": [
       "Intercept    0.00000\n",
       "MedInc       0.00000\n",
       "AveRooms     0.00000\n",
       "AveOccup     0.00000\n",
       "dtype: object"
      ]
     },
     "execution_count": 14,
     "metadata": {},
     "output_type": "execute_result"
    }
   ],
   "source": [
    "# 2nd option according to ChatGPT to show the five ceros\n",
    "models_pvalue.iloc[0:4].apply(lambda x: f\"{x:.5f}\")"
   ]
  },
  {
   "cell_type": "markdown",
   "metadata": {
    "id": "NCrUTHoIBm6W"
   },
   "source": [
    "### Step 3\n",
    "\n",
    "Identify the significant predictors (strictly less than $\\alpha=0.05$) calling this `significant_predictors`.\n",
    "\n",
    "Reutn the shape of `significant_predictors`."
   ]
  },
  {
   "cell_type": "code",
   "execution_count": 15,
   "metadata": {
    "id": "4kJT99avzwD_"
   },
   "outputs": [
    {
     "data": {
      "text/plain": [
       "(4,)"
      ]
     },
     "execution_count": 15,
     "metadata": {},
     "output_type": "execute_result"
    }
   ],
   "source": [
    "# CodeGrade step3\n",
    "# Step 3\n",
    "significant_predictors = mlr_model.pvalues[mlr_model.pvalues < 0.05]\n",
    "significant_predictors.shape"
   ]
  },
  {
   "cell_type": "code",
   "execution_count": 16,
   "metadata": {},
   "outputs": [
    {
     "data": {
      "text/plain": [
       "Intercept    6.068779e-297\n",
       "MedInc        0.000000e+00\n",
       "AveRooms      9.242827e-54\n",
       "AveOccup      7.294401e-14\n",
       "dtype: float64"
      ]
     },
     "execution_count": 16,
     "metadata": {},
     "output_type": "execute_result"
    }
   ],
   "source": [
    "significant_predictors"
   ]
  },
  {
   "cell_type": "markdown",
   "metadata": {
    "id": "aAmhEckbB9AH"
   },
   "source": [
    "### Step 4\n",
    "\n",
    "Find the confidence intervals of the model (at a 95% level of confidence) and calling this `conf_intervals`.\n",
    "\n",
    "Using `.iloc[,]` and rounding to 2 decimal places return the four confidence intervals in order of (separated by commas)\n",
    "\n",
    "> first row and first column, first row and second column, second row and first column, second row and second column\n",
    "\n",
    "\n",
    "\n"
   ]
  },
  {
   "cell_type": "code",
   "execution_count": 19,
   "metadata": {
    "id": "vXIdrhhnz2VA"
   },
   "outputs": [
    {
     "data": {
      "text/html": [
       "<div>\n",
       "<style scoped>\n",
       "    .dataframe tbody tr th:only-of-type {\n",
       "        vertical-align: middle;\n",
       "    }\n",
       "\n",
       "    .dataframe tbody tr th {\n",
       "        vertical-align: top;\n",
       "    }\n",
       "\n",
       "    .dataframe thead th {\n",
       "        text-align: right;\n",
       "    }\n",
       "</style>\n",
       "<table border=\"1\" class=\"dataframe\">\n",
       "  <thead>\n",
       "    <tr style=\"text-align: right;\">\n",
       "      <th></th>\n",
       "      <th>0</th>\n",
       "      <th>1</th>\n",
       "    </tr>\n",
       "  </thead>\n",
       "  <tbody>\n",
       "    <tr>\n",
       "      <th>Intercept</th>\n",
       "      <td>0.58</td>\n",
       "      <td>0.64</td>\n",
       "    </tr>\n",
       "    <tr>\n",
       "      <th>MedInc</th>\n",
       "      <td>0.43</td>\n",
       "      <td>0.44</td>\n",
       "    </tr>\n",
       "    <tr>\n",
       "      <th>AveRooms</th>\n",
       "      <td>-0.04</td>\n",
       "      <td>-0.03</td>\n",
       "    </tr>\n",
       "    <tr>\n",
       "      <th>AveOccup</th>\n",
       "      <td>-0.01</td>\n",
       "      <td>-0.00</td>\n",
       "    </tr>\n",
       "  </tbody>\n",
       "</table>\n",
       "</div>"
      ],
      "text/plain": [
       "              0     1\n",
       "Intercept  0.58  0.64\n",
       "MedInc     0.43  0.44\n",
       "AveRooms  -0.04 -0.03\n",
       "AveOccup  -0.01 -0.00"
      ]
     },
     "execution_count": 19,
     "metadata": {},
     "output_type": "execute_result"
    }
   ],
   "source": [
    "# CodeGrade step4\n",
    "round(mlr_model.conf_int(alpha=0.05).iloc[0:4],2)"
   ]
  },
  {
   "cell_type": "code",
   "execution_count": 21,
   "metadata": {},
   "outputs": [
    {
     "name": "stdout",
     "output_type": "stream",
     "text": [
      "0.58, 0.64, 0.43, 0.44, -0.04, -0.03, -0.01, -0.0\n"
     ]
    }
   ],
   "source": [
    "conf_intervals = mlr_model.conf_int(alpha=0.05)\n",
    "rounded_vals = [\n",
    "    round(conf_intervals.iloc[0, 0], 2),\n",
    "    round(conf_intervals.iloc[0, 1], 2),\n",
    "    round(conf_intervals.iloc[1, 0], 2),\n",
    "    round(conf_intervals.iloc[1, 1], 2),\n",
    "    round(conf_intervals.iloc[2, 0], 2),\n",
    "    round(conf_intervals.iloc[2, 1], 2),\n",
    "    round(conf_intervals.iloc[3, 0], 2),\n",
    "    round(conf_intervals.iloc[3, 1], 2)\n",
    "]\n",
    "print(*rounded_vals, sep=\", \")"
   ]
  },
  {
   "cell_type": "markdown",
   "metadata": {
    "id": "OgK1kFgACm95"
   },
   "source": [
    "Now to see how the intervals looks \"nicely\" return `conf_intervals`."
   ]
  },
  {
   "cell_type": "code",
   "execution_count": 22,
   "metadata": {
    "id": "TYIhEIxY0Cf1"
   },
   "outputs": [
    {
     "data": {
      "text/html": [
       "<div>\n",
       "<style scoped>\n",
       "    .dataframe tbody tr th:only-of-type {\n",
       "        vertical-align: middle;\n",
       "    }\n",
       "\n",
       "    .dataframe tbody tr th {\n",
       "        vertical-align: top;\n",
       "    }\n",
       "\n",
       "    .dataframe thead th {\n",
       "        text-align: right;\n",
       "    }\n",
       "</style>\n",
       "<table border=\"1\" class=\"dataframe\">\n",
       "  <thead>\n",
       "    <tr style=\"text-align: right;\">\n",
       "      <th></th>\n",
       "      <th>0</th>\n",
       "      <th>1</th>\n",
       "    </tr>\n",
       "  </thead>\n",
       "  <tbody>\n",
       "    <tr>\n",
       "      <th>Intercept</th>\n",
       "      <td>0.575162</td>\n",
       "      <td>0.638703</td>\n",
       "    </tr>\n",
       "    <tr>\n",
       "      <th>MedInc</th>\n",
       "      <td>0.428363</td>\n",
       "      <td>0.441003</td>\n",
       "    </tr>\n",
       "    <tr>\n",
       "      <th>AveRooms</th>\n",
       "      <td>-0.043178</td>\n",
       "      <td>-0.033474</td>\n",
       "    </tr>\n",
       "    <tr>\n",
       "      <th>AveOccup</th>\n",
       "      <td>-0.005266</td>\n",
       "      <td>-0.003081</td>\n",
       "    </tr>\n",
       "  </tbody>\n",
       "</table>\n",
       "</div>"
      ],
      "text/plain": [
       "                  0         1\n",
       "Intercept  0.575162  0.638703\n",
       "MedInc     0.428363  0.441003\n",
       "AveRooms  -0.043178 -0.033474\n",
       "AveOccup  -0.005266 -0.003081"
      ]
     },
     "execution_count": 22,
     "metadata": {},
     "output_type": "execute_result"
    }
   ],
   "source": [
    "#Pretty CIs\n",
    "conf_intervals"
   ]
  },
  {
   "cell_type": "markdown",
   "metadata": {
    "id": "H3si3dfxCt0K"
   },
   "source": [
    "### Step 5\n",
    "\n",
    "Add a quadratic term to the model, calling the new model `quad_model` where a new term is added to the data, viz. `MedInc_squared`, which is the square of `MedInc`.\n",
    "\n",
    "Return $r^2$ of the quadratic model rounded to four decumal places."
   ]
  },
  {
   "cell_type": "code",
   "execution_count": 25,
   "metadata": {
    "id": "9NAxhMdb1LQL"
   },
   "outputs": [
    {
     "data": {
      "text/plain": [
       "0.4858"
      ]
     },
     "execution_count": 25,
     "metadata": {},
     "output_type": "execute_result"
    }
   ],
   "source": [
    "# CodeGrade step5\n",
    "data['MedInc_squared'] = data['MedInc'] ** 2\n",
    "quad_model = smf.ols(formula='MedianHouseValue ~ MedInc + AveRooms + AveOccup + MedInc_squared', data=data).fit()\n",
    "round(quad_model.rsquared, 4)"
   ]
  },
  {
   "cell_type": "markdown",
   "metadata": {
    "id": "1yGQ9JyKDLYt"
   },
   "source": [
    "Now print the model summary."
   ]
  },
  {
   "cell_type": "code",
   "execution_count": 24,
   "metadata": {
    "id": "aB8zNExq1P1a"
   },
   "outputs": [
    {
     "name": "stdout",
     "output_type": "stream",
     "text": [
      "                            OLS Regression Results                            \n",
      "==============================================================================\n",
      "Dep. Variable:       MedianHouseValue   R-squared:                       0.486\n",
      "Model:                            OLS   Adj. R-squared:                  0.486\n",
      "Method:                 Least Squares   F-statistic:                     4874.\n",
      "Date:                Tue, 17 Jun 2025   Prob (F-statistic):               0.00\n",
      "Time:                        17:35:42   Log-Likelihood:                -25378.\n",
      "No. Observations:               20640   AIC:                         5.077e+04\n",
      "Df Residuals:                   20635   BIC:                         5.081e+04\n",
      "Df Model:                           4                                         \n",
      "Covariance Type:            nonrobust                                         \n",
      "==================================================================================\n",
      "                     coef    std err          t      P>|t|      [0.025      0.975]\n",
      "----------------------------------------------------------------------------------\n",
      "Intercept          0.3551      0.024     14.760      0.000       0.308       0.402\n",
      "MedInc             0.5543      0.009     61.156      0.000       0.537       0.572\n",
      "AveRooms          -0.0398      0.002    -16.139      0.000      -0.045      -0.035\n",
      "AveOccup          -0.0041      0.001     -7.318      0.000      -0.005      -0.003\n",
      "MedInc_squared    -0.0110      0.001    -14.115      0.000      -0.012      -0.009\n",
      "==============================================================================\n",
      "Omnibus:                     4911.885   Durbin-Watson:                   0.696\n",
      "Prob(Omnibus):                  0.000   Jarque-Bera (JB):            13423.460\n",
      "Skew:                           1.269   Prob(JB):                         0.00\n",
      "Kurtosis:                       6.028   Cond. No.                         129.\n",
      "==============================================================================\n",
      "\n",
      "Notes:\n",
      "[1] Standard Errors assume that the covariance matrix of the errors is correctly specified.\n"
     ]
    }
   ],
   "source": [
    "# Print the model summary\n",
    "print(quad_model.summary())"
   ]
  },
  {
   "cell_type": "markdown",
   "metadata": {
    "id": "Js07jw5fDNVq"
   },
   "source": [
    "### Step 6\n",
    "\n",
    "Find the adjusted $r^2$ for both of the models and call them `adjusted_r2_base` and `adjusted_r2_quad`, respectively.\n",
    "\n",
    "Return these two adjusted $r^2$'s rounded to four decimal places, separated by a comma."
   ]
  },
  {
   "cell_type": "code",
   "execution_count": 30,
   "metadata": {},
   "outputs": [],
   "source": [
    "adjusted_r2_base = round(mlr_model.rsquared_adj, 4)\n",
    "adjusted_r2_quad = round(quad_model.rsquared_adj, 4)"
   ]
  },
  {
   "cell_type": "markdown",
   "metadata": {
    "id": "DBOHz2ijDlUN"
   },
   "source": [
    "Print both these adjusted $r^2$'s."
   ]
  },
  {
   "cell_type": "code",
   "execution_count": 32,
   "metadata": {
    "id": "osyj44PQ1XFm"
   },
   "outputs": [
    {
     "name": "stdout",
     "output_type": "stream",
     "text": [
      "p-value adjusted_r2_base: 0.4807 , p-value adjusted_r2_quad: 0.4857\n"
     ]
    }
   ],
   "source": [
    "# CodeGrade step6\n",
    "print(\"p-value adjusted_r2_base:\", adjusted_r2_base, \", p-value adjusted_r2_quad:\", adjusted_r2_quad)"
   ]
  },
  {
   "cell_type": "code",
   "execution_count": null,
   "metadata": {},
   "outputs": [],
   "source": []
  }
 ],
 "metadata": {
  "colab": {
   "provenance": []
  },
  "kernelspec": {
   "display_name": "Python (base)",
   "language": "python",
   "name": "base"
  },
  "language_info": {
   "codemirror_mode": {
    "name": "ipython",
    "version": 3
   },
   "file_extension": ".py",
   "mimetype": "text/x-python",
   "name": "python",
   "nbconvert_exporter": "python",
   "pygments_lexer": "ipython3",
   "version": "3.11.11"
  }
 },
 "nbformat": 4,
 "nbformat_minor": 4
}
