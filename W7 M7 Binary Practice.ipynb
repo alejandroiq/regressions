{
 "cells": [
  {
   "cell_type": "code",
   "execution_count": 1,
   "id": "272be4ba-6278-499d-a69a-440075dbca12",
   "metadata": {},
   "outputs": [],
   "source": [
    "import pandas as pd\n",
    "import numpy as np\n",
    "import matplotlib.pyplot as plt\n",
    "import seaborn as sns\n",
    "from sklearn.model_selection import train_test_split\n",
    "from sklearn.preprocessing import StandardScaler\n",
    "from sklearn.linear_model import LogisticRegression\n",
    "from sklearn.metrics import confusion_matrix, accuracy_score, classification_report\n",
    "from statsmodels.stats.outliers_influence import variance_inflation_factor\n",
    "\n",
    "# Data\n",
    "from faraway.datasets import galapagos"
   ]
  },
  {
   "cell_type": "code",
   "execution_count": 2,
   "id": "4c688f85-bab7-4ecf-9b02-d239c0024596",
   "metadata": {},
   "outputs": [],
   "source": [
    "# Load the data\n",
    "data = galapagos.load()"
   ]
  },
  {
   "cell_type": "code",
   "execution_count": 3,
   "id": "bdc7d27f-b360-4ed7-996c-372d812ab5d3",
   "metadata": {},
   "outputs": [
    {
     "data": {
      "text/html": [
       "<div>\n",
       "<style scoped>\n",
       "    .dataframe tbody tr th:only-of-type {\n",
       "        vertical-align: middle;\n",
       "    }\n",
       "\n",
       "    .dataframe tbody tr th {\n",
       "        vertical-align: top;\n",
       "    }\n",
       "\n",
       "    .dataframe thead th {\n",
       "        text-align: right;\n",
       "    }\n",
       "</style>\n",
       "<table border=\"1\" class=\"dataframe\">\n",
       "  <thead>\n",
       "    <tr style=\"text-align: right;\">\n",
       "      <th></th>\n",
       "      <th>Species</th>\n",
       "      <th>Area</th>\n",
       "      <th>Elevation</th>\n",
       "      <th>Nearest</th>\n",
       "      <th>Scruz</th>\n",
       "      <th>Adjacent</th>\n",
       "    </tr>\n",
       "  </thead>\n",
       "  <tbody>\n",
       "    <tr>\n",
       "      <th>Baltra</th>\n",
       "      <td>58</td>\n",
       "      <td>25.09</td>\n",
       "      <td>346</td>\n",
       "      <td>0.6</td>\n",
       "      <td>0.6</td>\n",
       "      <td>1.84</td>\n",
       "    </tr>\n",
       "    <tr>\n",
       "      <th>Bartolome</th>\n",
       "      <td>31</td>\n",
       "      <td>1.24</td>\n",
       "      <td>109</td>\n",
       "      <td>0.6</td>\n",
       "      <td>26.3</td>\n",
       "      <td>572.33</td>\n",
       "    </tr>\n",
       "    <tr>\n",
       "      <th>Caldwell</th>\n",
       "      <td>3</td>\n",
       "      <td>0.21</td>\n",
       "      <td>114</td>\n",
       "      <td>2.8</td>\n",
       "      <td>58.7</td>\n",
       "      <td>0.78</td>\n",
       "    </tr>\n",
       "    <tr>\n",
       "      <th>Champion</th>\n",
       "      <td>25</td>\n",
       "      <td>0.10</td>\n",
       "      <td>46</td>\n",
       "      <td>1.9</td>\n",
       "      <td>47.4</td>\n",
       "      <td>0.18</td>\n",
       "    </tr>\n",
       "    <tr>\n",
       "      <th>Coamano</th>\n",
       "      <td>2</td>\n",
       "      <td>0.05</td>\n",
       "      <td>77</td>\n",
       "      <td>1.9</td>\n",
       "      <td>1.9</td>\n",
       "      <td>903.82</td>\n",
       "    </tr>\n",
       "  </tbody>\n",
       "</table>\n",
       "</div>"
      ],
      "text/plain": [
       "           Species   Area  Elevation  Nearest  Scruz  Adjacent\n",
       "Baltra          58  25.09        346      0.6    0.6      1.84\n",
       "Bartolome       31   1.24        109      0.6   26.3    572.33\n",
       "Caldwell         3   0.21        114      2.8   58.7      0.78\n",
       "Champion        25   0.10         46      1.9   47.4      0.18\n",
       "Coamano          2   0.05         77      1.9    1.9    903.82"
      ]
     },
     "execution_count": 3,
     "metadata": {},
     "output_type": "execute_result"
    }
   ],
   "source": [
    "data.head()"
   ]
  },
  {
   "cell_type": "code",
   "execution_count": 4,
   "id": "ea452526-0e94-462a-95d5-641b0182827c",
   "metadata": {},
   "outputs": [
    {
     "name": "stdout",
     "output_type": "stream",
     "text": [
      "<class 'pandas.core.frame.DataFrame'>\n",
      "Index: 30 entries, Baltra to Wolf\n",
      "Data columns (total 6 columns):\n",
      " #   Column     Non-Null Count  Dtype  \n",
      "---  ------     --------------  -----  \n",
      " 0   Species    30 non-null     int64  \n",
      " 1   Area       30 non-null     float64\n",
      " 2   Elevation  30 non-null     int64  \n",
      " 3   Nearest    30 non-null     float64\n",
      " 4   Scruz      30 non-null     float64\n",
      " 5   Adjacent   30 non-null     float64\n",
      "dtypes: float64(4), int64(2)\n",
      "memory usage: 1.6+ KB\n"
     ]
    }
   ],
   "source": [
    "data.info()"
   ]
  },
  {
   "cell_type": "code",
   "execution_count": 5,
   "id": "b7741193-c314-48cc-a5c3-fad075e803ef",
   "metadata": {},
   "outputs": [],
   "source": [
    "# Define predictors and response variable\n",
    "X = data[['Area', 'Elevation', 'Nearest']]  # Example predictors\n",
    "y = data['Species']  # Response (binary outcome: presence/absence)"
   ]
  },
  {
   "cell_type": "code",
   "execution_count": 6,
   "id": "c934f270-9c39-448e-9cf1-c2c1ab2fbe06",
   "metadata": {},
   "outputs": [],
   "source": [
    "# Split data into training and testing sets\n",
    "X_train, X_test, y_train, y_test = train_test_split(X, y, test_size=0.2, random_state=42)"
   ]
  },
  {
   "cell_type": "code",
   "execution_count": 7,
   "id": "35339037-756f-4b1a-989e-b690284e730f",
   "metadata": {},
   "outputs": [
    {
     "name": "stdout",
     "output_type": "stream",
     "text": [
      "X_train dimensions: (24, 3)\n",
      "X_test dimensions: (6, 3)\n",
      "y_train dimensions: (24,)\n",
      "y_test dimensions: (6,)\n"
     ]
    }
   ],
   "source": [
    "print(\"X_train dimensions:\", X_train.shape)\n",
    "print(\"X_test dimensions:\", X_test.shape)\n",
    "print(\"y_train dimensions:\", y_train.shape)\n",
    "print(\"y_test dimensions:\", y_test.shape)"
   ]
  },
  {
   "cell_type": "code",
   "execution_count": 8,
   "id": "dc3e57db-2eab-400a-aaf4-cc423a89df79",
   "metadata": {},
   "outputs": [
    {
     "data": {
      "image/png": "[encoded data removed]",
      "text/plain": [
       "<Figure size 1000x600 with 4 Axes>"
      ]
     },
     "metadata": {},
     "output_type": "display_data"
    }
   ],
   "source": [
    "# Create subplots\n",
    "fig, axes = plt.subplots(2, 2, figsize=(10, 6))\n",
    "\n",
    "# Plot Species vs. Area\n",
    "axes[0, 0].scatter(data['Species'], data['Area'])\n",
    "axes[0, 0].set_xlabel('Species')\n",
    "axes[0, 0].set_ylabel('Area')\n",
    "axes[0, 0].set_title('Species vs. Area')\n",
    "axes[0,0].grid(alpha=0.3)\n",
    "\n",
    "# Plot Species vs. Elevation\n",
    "axes[0, 1].scatter(data['Species'], data['Elevation'])\n",
    "axes[0, 1].set_xlabel('Species')\n",
    "axes[0, 1].set_ylabel('Elevation')\n",
    "axes[0, 1].set_title('Species vs. Elevation')\n",
    "axes[0, 1].grid(alpha=0.3)\n",
    "\n",
    "\n",
    "# Plot Species vs. Nearest\n",
    "axes[1, 0].scatter(data['Species'], data['Nearest'])\n",
    "axes[1, 0].set_xlabel('Species')\n",
    "axes[1, 0].set_ylabel('Nearest')\n",
    "axes[1, 0].set_title('Species vs. Nearest')\n",
    "axes[1,0].grid(alpha=0.3)\n",
    "\n",
    "\n",
    "# Plot Species vs. Scruz\n",
    "axes[1, 1].scatter(data['Species'], data['Scruz'])\n",
    "axes[1, 1].set_xlabel('Species')\n",
    "axes[1, 1].set_ylabel('Scruz')\n",
    "axes[1, 1].set_title('Species vs. Scruz')\n",
    "axes[1,1].grid(alpha=0.3)\n",
    "\n",
    "\n",
    "plt.tight_layout()  # Adjust spacing between subplots\n",
    "plt.show()"
   ]
  },
  {
   "cell_type": "markdown",
   "id": "fbf7fd33-8a68-4107-8ee5-b655a4096636",
   "metadata": {},
   "source": [
    "### 1. Define Binary"
   ]
  },
  {
   "cell_type": "code",
   "execution_count": 9,
   "id": "3e895710-006b-42a9-bc8c-ae27b28afea6",
   "metadata": {},
   "outputs": [],
   "source": [
    "# Define predictors and response variable\n",
    "X = data[['Area', 'Elevation', 'Adjacent']]  # Example predictors"
   ]
  },
  {
   "cell_type": "code",
   "execution_count": 10,
   "id": "53ecc431-cec9-4c1e-9d2e-c315489b7d60",
   "metadata": {},
   "outputs": [],
   "source": [
    "# Calculate the median of the Nearest column from the predictor already defined\n",
    "median_nearest = data['Nearest'].median()"
   ]
  },
  {
   "cell_type": "code",
   "execution_count": 11,
   "id": "eaaa015b-9641-452d-9e9a-1017b503a0c5",
   "metadata": {},
   "outputs": [],
   "source": [
    "# Create the Nearest_Binary column\n",
    "data['Nearest_Binary'] = (data['Nearest'] > median_nearest).astype(int)\n",
    "y = data['Nearest_Binary']"
   ]
  },
  {
   "cell_type": "code",
   "execution_count": 12,
   "id": "32adabbb-772b-43b5-a5c6-f33cbb5b62fa",
   "metadata": {},
   "outputs": [],
   "source": [
    "# Split data into training and testing sets again with the new y\n",
    "X_train, X_test, y_train, y_test = train_test_split(X, y, test_size=0.2, random_state=42)"
   ]
  },
  {
   "cell_type": "code",
   "execution_count": 13,
   "id": "46057bae-e2d3-49cd-a799-07d8d7529e63",
   "metadata": {},
   "outputs": [
    {
     "data": {
      "text/html": [
       "<div>\n",
       "<style scoped>\n",
       "    .dataframe tbody tr th:only-of-type {\n",
       "        vertical-align: middle;\n",
       "    }\n",
       "\n",
       "    .dataframe tbody tr th {\n",
       "        vertical-align: top;\n",
       "    }\n",
       "\n",
       "    .dataframe thead th {\n",
       "        text-align: right;\n",
       "    }\n",
       "</style>\n",
       "<table border=\"1\" class=\"dataframe\">\n",
       "  <thead>\n",
       "    <tr style=\"text-align: right;\">\n",
       "      <th></th>\n",
       "      <th>Nearest</th>\n",
       "      <th>Nearest_Binary</th>\n",
       "    </tr>\n",
       "  </thead>\n",
       "  <tbody>\n",
       "    <tr>\n",
       "      <th>Baltra</th>\n",
       "      <td>0.6</td>\n",
       "      <td>0</td>\n",
       "    </tr>\n",
       "    <tr>\n",
       "      <th>Bartolome</th>\n",
       "      <td>0.6</td>\n",
       "      <td>0</td>\n",
       "    </tr>\n",
       "    <tr>\n",
       "      <th>Caldwell</th>\n",
       "      <td>2.8</td>\n",
       "      <td>0</td>\n",
       "    </tr>\n",
       "    <tr>\n",
       "      <th>Champion</th>\n",
       "      <td>1.9</td>\n",
       "      <td>0</td>\n",
       "    </tr>\n",
       "    <tr>\n",
       "      <th>Coamano</th>\n",
       "      <td>1.9</td>\n",
       "      <td>0</td>\n",
       "    </tr>\n",
       "    <tr>\n",
       "      <th>Daphne.Major</th>\n",
       "      <td>8.0</td>\n",
       "      <td>1</td>\n",
       "    </tr>\n",
       "    <tr>\n",
       "      <th>Daphne.Minor</th>\n",
       "      <td>6.0</td>\n",
       "      <td>1</td>\n",
       "    </tr>\n",
       "    <tr>\n",
       "      <th>Darwin</th>\n",
       "      <td>34.1</td>\n",
       "      <td>1</td>\n",
       "    </tr>\n",
       "  </tbody>\n",
       "</table>\n",
       "</div>"
      ],
      "text/plain": [
       "              Nearest  Nearest_Binary\n",
       "Baltra            0.6               0\n",
       "Bartolome         0.6               0\n",
       "Caldwell          2.8               0\n",
       "Champion          1.9               0\n",
       "Coamano           1.9               0\n",
       "Daphne.Major      8.0               1\n",
       "Daphne.Minor      6.0               1\n",
       "Darwin           34.1               1"
      ]
     },
     "execution_count": 13,
     "metadata": {},
     "output_type": "execute_result"
    }
   ],
   "source": [
    "data[['Nearest', 'Nearest_Binary']].head(8)"
   ]
  },
  {
   "cell_type": "code",
   "execution_count": 14,
   "id": "a3b3c26e-73a9-4f5a-a8e1-1a16b334f413",
   "metadata": {},
   "outputs": [
    {
     "data": {
      "text/plain": [
       "Nearest_Binary\n",
       "0    15\n",
       "1    15\n",
       "Name: count, dtype: int64"
      ]
     },
     "execution_count": 14,
     "metadata": {},
     "output_type": "execute_result"
    }
   ],
   "source": [
    "# Count the occurrences of 0 and 1\n",
    "binary_counts = y.value_counts()\n",
    "binary_counts"
   ]
  },
  {
   "cell_type": "markdown",
   "id": "b047766b-5072-459d-b0cb-fb4c7830b2b1",
   "metadata": {},
   "source": [
    "Interpretation: The dataset contains 30 records with six variables. The target variable, Species, represents a count that will later be transformed into a binary classification target. Predictors Area, Elevation, and Nearest are selected as independent variables. The data is successfully split into training (24 observations) and testing (6 observations) subsets."
   ]
  },
  {
   "cell_type": "markdown",
   "id": "b3b2b802-5b8b-4b8e-91b6-f87aecffd275",
   "metadata": {},
   "source": [
    "### 2. Scale the Predictors"
   ]
  },
  {
   "cell_type": "code",
   "execution_count": 15,
   "id": "418a2332-cbd4-461c-bde4-3177f2f68bbe",
   "metadata": {},
   "outputs": [
    {
     "name": "stdout",
     "output_type": "stream",
     "text": [
      "Dimensions of X_train_scaled: (24, 3)\n",
      "Dimensions of X_test_scaled: (6, 3)\n"
     ]
    }
   ],
   "source": [
    "# Scale the predictors\n",
    "scaler = StandardScaler()\n",
    "\n",
    "# Transform training and testing predictors\n",
    "X_train_scaled = pd.DataFrame(scaler.fit_transform(X_train), columns=X_train.columns)\n",
    "X_test_scaled = pd.DataFrame(scaler.transform(X_test), columns=X_test.columns)\n",
    "\n",
    "# Get dimensions\n",
    "print(\"Dimensions of X_train_scaled:\", X_train_scaled.shape)\n",
    "print(\"Dimensions of X_test_scaled:\", X_test_scaled.shape)"
   ]
  },
  {
   "cell_type": "markdown",
   "id": "584f453f-6313-4818-a87f-409e8cb82d9c",
   "metadata": {},
   "source": [
    "Interpretation: The predictors are scaled to standardize their range for better performance of logistic regression. The scaled training and testing datasets maintain the same dimensions as the original splits, ensuring no data is lost during preprocessing."
   ]
  },
  {
   "cell_type": "markdown",
   "id": "7a02c541-3534-43a3-bfdc-cc0beffb2951",
   "metadata": {},
   "source": [
    "### 3. Fit the Logistic Regression model"
   ]
  },
  {
   "cell_type": "code",
   "execution_count": 16,
   "id": "a117f76b-49ff-4462-81e0-67e28cb5b6f9",
   "metadata": {},
   "outputs": [
    {
     "name": "stdout",
     "output_type": "stream",
     "text": [
      "Intercept: [0.36853881]\n",
      "Coefficients: [[-0.54318024  0.75656123  0.05697516]]\n"
     ]
    }
   ],
   "source": [
    "# Fit logistic regression model on scaled data\n",
    "model = LogisticRegression(max_iter=1000)\n",
    "model.fit(X_train_scaled, y_train)\n",
    "\n",
    "# Output coefficients\n",
    "print(\"Intercept:\", model.intercept_)\n",
    "print(\"Coefficients:\", model.coef_)"
   ]
  },
  {
   "cell_type": "markdown",
   "id": "cd532fa4-9e85-4832-96d9-a7f23d2205c6",
   "metadata": {},
   "source": [
    "### 4. Make prediction"
   ]
  },
  {
   "cell_type": "code",
   "execution_count": 17,
   "id": "822b6d97-6e22-4dc6-b84d-8819a405f7ed",
   "metadata": {},
   "outputs": [
    {
     "name": "stdout",
     "output_type": "stream",
     "text": [
      "Predicted Probabilities: [0.54407974 0.00074678 0.63293308 0.4764621  0.50250907]\n",
      "Predicted Classes: [1 0 1 0 1]\n"
     ]
    }
   ],
   "source": [
    "# Predict probabilities and classes\n",
    "y_pred_prob = model.predict_proba(X_test_scaled)[:, 1]\n",
    "y_pred_class = model.predict(X_test_scaled)\n",
    "\n",
    "# Display predictions\n",
    "print(\"Predicted Probabilities:\", y_pred_prob[:5])\n",
    "print(\"Predicted Classes:\", y_pred_class[:5])"
   ]
  },
  {
   "cell_type": "markdown",
   "id": "f5829409-bec2-472a-9f12-f235eb744116",
   "metadata": {},
   "source": [
    "### 5. Evaluate the model"
   ]
  },
  {
   "cell_type": "code",
   "execution_count": 18,
   "id": "faab5b7f-9eb0-4a29-be04-843c453ca760",
   "metadata": {},
   "outputs": [
    {
     "name": "stdout",
     "output_type": "stream",
     "text": [
      "Confusion Matrix:\n",
      " [[1 4]\n",
      " [1 0]]\n",
      "Accuracy Score: 0.16666666666666666\n",
      "Classification Report:\n",
      "               precision    recall  f1-score   support\n",
      "\n",
      "           0       0.50      0.20      0.29         5\n",
      "           1       0.00      0.00      0.00         1\n",
      "\n",
      "    accuracy                           0.17         6\n",
      "   macro avg       0.25      0.10      0.14         6\n",
      "weighted avg       0.42      0.17      0.24         6\n",
      "\n"
     ]
    }
   ],
   "source": [
    "# Evaluate model performance\n",
    "print(\"Confusion Matrix:\\n\", confusion_matrix(y_test, y_pred_class))\n",
    "print(\"Accuracy Score:\", accuracy_score(y_test, y_pred_class))\n",
    "print(\"Classification Report:\\n\", classification_report(y_test, y_pred_class))"
   ]
  },
  {
   "cell_type": "markdown",
   "id": "25afa838-ccd6-440a-8a38-6ba8da0e975d",
   "metadata": {},
   "source": [
    "### 6. Check Assumptions"
   ]
  },
  {
   "cell_type": "code",
   "execution_count": 19,
   "id": "d3a22ae5-0595-40d2-b79d-7e963a77b2e7",
   "metadata": {},
   "outputs": [
    {
     "name": "stdout",
     "output_type": "stream",
     "text": [
      "    Variable       VIF\n",
      "0       Area  2.814390\n",
      "1  Elevation  4.149119\n",
      "2   Adjacent  1.891136\n"
     ]
    }
   ],
   "source": [
    "# Check multicollinearity using VIF\n",
    "vif = pd.DataFrame()\n",
    "vif[\"Variable\"] = X_train.columns\n",
    "vif[\"VIF\"] = [variance_inflation_factor(X_train_scaled.values, i) for i in range(X_train_scaled.shape[1])]\n",
    "print(vif)"
   ]
  },
  {
   "cell_type": "markdown",
   "id": "d94c85f0-a3c7-46e3-b50a-4d54cbfa3e6e",
   "metadata": {},
   "source": [
    "When applying binary logistic regression to the Galapagos Islands dataset, key challenges may arise in variable selection, scaling, and assumption validation. Choosing predictors like Area, Elevation, and Nearest is critical, as their relevance directly impacts the model's interpretability and performance. A potential issue is the inclusion of irrelevant predictors, which may lead to overfitting or inflated multicollinearity. This was mitigated by calculating Variance Inflation Factor (VIF), confirming that multicollinearity is not severe in this dataset.\n",
    "\n",
    "Scaling the predictors ensures that the coefficients are on the same scale, improving convergence and interpretability, but introduces additional preprocessing steps that must be consistently applied to training and testing sets. The binary transformation of the response variable (Species) highlights a decision-making point; you must ensure the response variable aligns with the research question.\n",
    "\n",
    "For instance, defining species presence as Species > 0 provides a clear and biologically meaningful target. Understanding these steps and their implications is essential for robust and generalizable logistic regression models."
   ]
  },
  {
   "cell_type": "code",
   "execution_count": null,
   "id": "0b8feba5-8087-422b-965c-f21c8edea8b5",
   "metadata": {},
   "outputs": [],
   "source": []
  }
 ],
 "metadata": {
  "kernelspec": {
   "display_name": "Python (base)",
   "language": "python",
   "name": "base"
  },
  "language_info": {
   "codemirror_mode": {
    "name": "ipython",
    "version": 3
   },
   "file_extension": ".py",
   "mimetype": "text/x-python",
   "name": "python",
   "nbconvert_exporter": "python",
   "pygments_lexer": "ipython3",
   "version": "3.11.11"
  }
 },
 "nbformat": 4,
 "nbformat_minor": 5
}
